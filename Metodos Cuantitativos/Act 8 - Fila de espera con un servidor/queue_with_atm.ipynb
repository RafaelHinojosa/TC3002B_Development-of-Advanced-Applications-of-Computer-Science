{
 "cells": [
  {
   "cell_type": "code",
   "execution_count": 2,
   "metadata": {},
   "outputs": [],
   "source": [
    "import pandas as pd\n",
    "import random\n",
    "from datetime import datetime, timedelta"
   ]
  },
  {
   "attachments": {},
   "cell_type": "markdown",
   "metadata": {},
   "source": [
    "Rafael Hinojosa López\n",
    "\n",
    "A01705777\n",
    "\n",
    "29-05-2023"
   ]
  },
  {
   "cell_type": "code",
   "execution_count": 3,
   "metadata": {},
   "outputs": [],
   "source": [
    "NUM_CLIENTS = 10\n",
    "START_TIME = '09:00'\n",
    "clients = []\n",
    "mins_bet_arrivals = []\n",
    "arrival_hour = []\n",
    "procedure_time = []\n",
    "service_start = []\n",
    "service_end = []\n",
    "waiting_time = []\n",
    "atm_inactivity = []\n"
   ]
  },
  {
   "cell_type": "code",
   "execution_count": 4,
   "metadata": {},
   "outputs": [
    {
     "name": "stdout",
     "output_type": "stream",
     "text": [
      "[1, 2, 3, 4, 5, 6, 7, 8, 9, 10]\n",
      "[0, 1, 2, 0, 9, 7, 8, 2, 0, 5]\n",
      "[4, 0, 2, 3, 4, 1, 2, 0, 1, 3]\n"
     ]
    }
   ],
   "source": [
    "for i in range(0, NUM_CLIENTS):\n",
    "    clients.append(i + 1)\n",
    "    \n",
    "    if i == 0:\n",
    "        mins_bet_arrivals.append(0)\n",
    "    else:\n",
    "        mins = random.randint(0, 10)\n",
    "        mins_bet_arrivals.append(mins)\n",
    "    \n",
    "    mins = random.randint(0, 5)\n",
    "    procedure_time.append(mins)\n",
    "\n",
    "print(clients)\n",
    "print(mins_bet_arrivals)\n",
    "print(procedure_time)\n",
    "    "
   ]
  },
  {
   "cell_type": "code",
   "execution_count": 5,
   "metadata": {},
   "outputs": [
    {
     "name": "stdout",
     "output_type": "stream",
     "text": [
      "[1, 2, 3, 4, 5, 6, 7, 8, 9, 10]\n",
      "[0, 1, 2, 0, 9, 7, 8, 2, 0, 5]\n",
      "[datetime.datetime(1900, 1, 1, 9, 0), datetime.datetime(1900, 1, 1, 9, 1), datetime.datetime(1900, 1, 1, 9, 3), datetime.datetime(1900, 1, 1, 9, 3), datetime.datetime(1900, 1, 1, 9, 12), datetime.datetime(1900, 1, 1, 9, 19), datetime.datetime(1900, 1, 1, 9, 27), datetime.datetime(1900, 1, 1, 9, 29), datetime.datetime(1900, 1, 1, 9, 29), datetime.datetime(1900, 1, 1, 9, 34)]\n"
     ]
    }
   ],
   "source": [
    "# Guardar hora de llegada\n",
    "hour = datetime.strptime(START_TIME, '%H:%M')\n",
    "arrival_hour.append(hour)\n",
    "\n",
    "for i in range(1, len(clients)):\n",
    "    mins = mins_bet_arrivals[i]\n",
    "    hour = arrival_hour[i-1] + timedelta(minutes=mins)\n",
    "    arrival_hour.append(hour)\n",
    "\n",
    "print(clients)\n",
    "print(mins_bet_arrivals)\n",
    "print(arrival_hour)\n",
    "\n"
   ]
  },
  {
   "cell_type": "code",
   "execution_count": 6,
   "metadata": {},
   "outputs": [
    {
     "name": "stdout",
     "output_type": "stream",
     "text": [
      "[datetime.datetime(1900, 1, 1, 9, 0), datetime.datetime(1900, 1, 1, 9, 4), datetime.datetime(1900, 1, 1, 9, 4), datetime.datetime(1900, 1, 1, 9, 6), datetime.datetime(1900, 1, 1, 9, 12), datetime.datetime(1900, 1, 1, 9, 19), datetime.datetime(1900, 1, 1, 9, 27), datetime.datetime(1900, 1, 1, 9, 29), datetime.datetime(1900, 1, 1, 9, 29), datetime.datetime(1900, 1, 1, 9, 34)]\n",
      "[datetime.datetime(1900, 1, 1, 9, 4), datetime.datetime(1900, 1, 1, 9, 4), datetime.datetime(1900, 1, 1, 9, 6), datetime.datetime(1900, 1, 1, 9, 9), datetime.datetime(1900, 1, 1, 9, 16), datetime.datetime(1900, 1, 1, 9, 20), datetime.datetime(1900, 1, 1, 9, 29), datetime.datetime(1900, 1, 1, 9, 29), datetime.datetime(1900, 1, 1, 9, 30), datetime.datetime(1900, 1, 1, 9, 37)]\n"
     ]
    }
   ],
   "source": [
    "# Inicia Servicio\n",
    "\n",
    "acum_arrival_time = []\n",
    "acum_arrival_time.append(0)\n",
    "\n",
    "for i in range(1, len(mins_bet_arrivals)):\n",
    "    acum_arrival_time.append(acum_arrival_time[i-1] + mins_bet_arrivals[i])\n",
    "\n",
    "\n",
    "service_start.append(arrival_hour[0])\n",
    "service_end.append(service_start[0] + timedelta(minutes=procedure_time[0]))\n",
    "\n",
    "for i in range(1, len(clients)):\n",
    "    if arrival_hour[i] <= service_end[i-1]:\n",
    "        service_start.append(service_end[i-1])\n",
    "    else:\n",
    "        service_start.append(arrival_hour[i])\n",
    "    \n",
    "    service_end.append(service_start[i] + timedelta(minutes=procedure_time[i]))\n",
    "\n",
    "\n",
    "print(service_start)\n",
    "print(service_end)"
   ]
  },
  {
   "cell_type": "code",
   "execution_count": 7,
   "metadata": {},
   "outputs": [
    {
     "name": "stdout",
     "output_type": "stream",
     "text": [
      "[0, 3, 1, 3, 0, 0, 0, 0, 0, 0]\n"
     ]
    }
   ],
   "source": [
    "# Tiempo de espera del cliente\n",
    "for i in range(0, len(clients)):\n",
    "    time_diff = service_start[i] - arrival_hour[i]\n",
    "    waiting_time.append(int(time_diff.seconds / 60))\n",
    "\n",
    "print(waiting_time)"
   ]
  },
  {
   "cell_type": "code",
   "execution_count": 8,
   "metadata": {},
   "outputs": [],
   "source": [
    "# Tiempo inactividad del ATM\n",
    "atm_inactivity.append(0)\n",
    "\n",
    "for i in range(1, len(clients)):\n",
    "    time_diff = service_start[i] - service_end[i-1]\n",
    "    atm_inactivity.append(int(time_diff.seconds / 60))"
   ]
  },
  {
   "cell_type": "code",
   "execution_count": 9,
   "metadata": {},
   "outputs": [
    {
     "name": "stdout",
     "output_type": "stream",
     "text": [
      "[0, 0, 0, 0, 3, 3, 7, 0, 0, 4]\n"
     ]
    }
   ],
   "source": [
    "print(atm_inactivity)"
   ]
  },
  {
   "cell_type": "code",
   "execution_count": 10,
   "metadata": {},
   "outputs": [
    {
     "name": "stdout",
     "output_type": "stream",
     "text": [
      "20\n",
      "7\n",
      "17\n",
      "3\n",
      "34\n"
     ]
    }
   ],
   "source": [
    "total_waiting_time = 0\n",
    "total_atm_inactivity = 0\n",
    "total_procedure_time = 0\n",
    "total_clients_waiting = 0\n",
    "total_service_mins = 0\n",
    "\n",
    "for waiting in waiting_time:\n",
    "    total_waiting_time += waiting\n",
    "\n",
    "for inactivity in atm_inactivity:\n",
    "    total_atm_inactivity += inactivity\n",
    "\n",
    "for procedure in procedure_time:\n",
    "    total_procedure_time += procedure\n",
    "\n",
    "for waiting in waiting_time:\n",
    "    if waiting > 0:\n",
    "        total_clients_waiting += 1\n",
    "\n",
    "total_service_mins = int((service_start[len(service_start) - 1] - service_start[0]).seconds / 60)\n",
    "\n",
    "print(total_procedure_time)\n",
    "print(total_waiting_time)\n",
    "print(total_atm_inactivity)\n",
    "print(total_clients_waiting)\n",
    "print(total_service_mins)"
   ]
  },
  {
   "cell_type": "code",
   "execution_count": 11,
   "metadata": {},
   "outputs": [
    {
     "name": "stdout",
     "output_type": "stream",
     "text": [
      "Tiempo de espera promedio por cliente = 0.7 minutos.\n",
      "Probabilidad de que un cliente espere en la fila = 30.0%\n",
      "Porcentaje de tiempo en que el ATM estuvo inactivo = 50.0%\n",
      "Tiempo promedio de servicio = 2.0 minutos.\n"
     ]
    }
   ],
   "source": [
    "waiting_time_per_client = total_waiting_time / len(clients)\n",
    "prob_client_waits = total_clients_waiting / len(clients)\n",
    "atm_inactivity_percentage = total_atm_inactivity / total_service_mins\n",
    "avg_service_time = total_procedure_time / len(clients)\n",
    "\n",
    "print('Tiempo de espera promedio por cliente = ' + str(round(waiting_time_per_client, 2)) + ' minutos.')\n",
    "print('Probabilidad de que un cliente espere en la fila = ' + str(round(prob_client_waits*100, 2)) + '%')\n",
    "print('Porcentaje de tiempo en que el ATM estuvo inactivo = ' + str(round(atm_inactivity_percentage*100, 2)) + '%')\n",
    "print('Tiempo promedio de servicio = ' + str(round(avg_service_time, 2)) + ' minutos.')\n"
   ]
  },
  {
   "attachments": {},
   "cell_type": "markdown",
   "metadata": {},
   "source": [
    "##### Guardar los datos en archivos de Excel"
   ]
  },
  {
   "cell_type": "code",
   "execution_count": 12,
   "metadata": {},
   "outputs": [
    {
     "name": "stdout",
     "output_type": "stream",
     "text": [
      "   Cliente  Tiempo entre llegadas     Hora de llegada  Tiempo del trámite  \\\n",
      "0        1                      0 1900-01-01 09:00:00                   4   \n",
      "1        2                      1 1900-01-01 09:01:00                   0   \n",
      "2        3                      2 1900-01-01 09:03:00                   2   \n",
      "3        4                      0 1900-01-01 09:03:00                   3   \n",
      "4        5                      9 1900-01-01 09:12:00                   4   \n",
      "5        6                      7 1900-01-01 09:19:00                   1   \n",
      "6        7                      8 1900-01-01 09:27:00                   2   \n",
      "7        8                      2 1900-01-01 09:29:00                   0   \n",
      "8        9                      0 1900-01-01 09:29:00                   1   \n",
      "9       10                      5 1900-01-01 09:34:00                   3   \n",
      "\n",
      "      Inicia servicio    Termina servicio  Tiempo de espera cliente  \\\n",
      "0 1900-01-01 09:00:00 1900-01-01 09:04:00                         0   \n",
      "1 1900-01-01 09:04:00 1900-01-01 09:04:00                         3   \n",
      "2 1900-01-01 09:04:00 1900-01-01 09:06:00                         1   \n",
      "3 1900-01-01 09:06:00 1900-01-01 09:09:00                         3   \n",
      "4 1900-01-01 09:12:00 1900-01-01 09:16:00                         0   \n",
      "5 1900-01-01 09:19:00 1900-01-01 09:20:00                         0   \n",
      "6 1900-01-01 09:27:00 1900-01-01 09:29:00                         0   \n",
      "7 1900-01-01 09:29:00 1900-01-01 09:29:00                         0   \n",
      "8 1900-01-01 09:29:00 1900-01-01 09:30:00                         0   \n",
      "9 1900-01-01 09:34:00 1900-01-01 09:37:00                         0   \n",
      "\n",
      "   Tiempo inactividad del ATM  \n",
      "0                           0  \n",
      "1                           0  \n",
      "2                           0  \n",
      "3                           0  \n",
      "4                           3  \n",
      "5                           3  \n",
      "6                           7  \n",
      "7                           0  \n",
      "8                           0  \n",
      "9                           4  \n"
     ]
    }
   ],
   "source": [
    "import numpy as np\n",
    "\n",
    "\n",
    "clients = np.array(clients)\n",
    "mins_bet_arrivals = np.array(mins_bet_arrivals)\n",
    "arrival_hour = np.array(arrival_hour)\n",
    "procedure_time = np.array(procedure_time)\n",
    "service_start = np.array(service_start)\n",
    "service_end = np.array(service_end)\n",
    "waiting_time = np.array(waiting_time)\n",
    "atm_inactivity = np.array(atm_inactivity)\n",
    "\n",
    "# Create a dictionary of arrays\n",
    "data = {\n",
    "    'Cliente': clients,\n",
    "    'Tiempo entre llegadas': mins_bet_arrivals,\n",
    "    'Hora de llegada': arrival_hour,\n",
    "    'Tiempo del trámite': procedure_time,\n",
    "    'Inicia servicio': service_start,\n",
    "    'Termina servicio': service_end,\n",
    "    'Tiempo de espera cliente': waiting_time,\n",
    "    'Tiempo inactividad del ATM': atm_inactivity\n",
    "}\n",
    "\n",
    "# Convert the dictionary to a DataFrame\n",
    "df = pd.DataFrame(data)\n",
    "\n",
    "# Display the resulting DataFrame\n",
    "print(df)"
   ]
  },
  {
   "cell_type": "code",
   "execution_count": 13,
   "metadata": {},
   "outputs": [],
   "source": [
    "# from time import strptime\n",
    "\n",
    "# for i in range(0, len(df['Hora de llegada'])):\n",
    "#     hour = df['Hora de llegada'][i].hour\n",
    "#     minutes = df['Hora de llegada'][i].minute\n",
    "#     print(strptime(\"%I %H:%M\", df['Hora de llegada'][i]))\n",
    "\n",
    "\n",
    "# print(df['Hora de llegada'])\n",
    "\n",
    "\n"
   ]
  },
  {
   "cell_type": "code",
   "execution_count": 14,
   "metadata": {},
   "outputs": [],
   "source": [
    "output_path = 'output.xlsx'\n",
    "\n",
    "df.to_excel(output_path, index=False)"
   ]
  }
 ],
 "metadata": {
  "kernelspec": {
   "display_name": "Python 3",
   "language": "python",
   "name": "python3"
  },
  "language_info": {
   "codemirror_mode": {
    "name": "ipython",
    "version": 3
   },
   "file_extension": ".py",
   "mimetype": "text/x-python",
   "name": "python",
   "nbconvert_exporter": "python",
   "pygments_lexer": "ipython3",
   "version": "3.8.0"
  },
  "orig_nbformat": 4
 },
 "nbformat": 4,
 "nbformat_minor": 2
}
