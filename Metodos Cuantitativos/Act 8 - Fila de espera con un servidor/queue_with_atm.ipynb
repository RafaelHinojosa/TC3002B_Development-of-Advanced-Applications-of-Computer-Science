{
 "cells": [
  {
   "cell_type": "code",
   "execution_count": 42,
   "metadata": {},
   "outputs": [],
   "source": [
    "import pandas as pd\n",
    "import random\n",
    "from datetime import datetime, timedelta\n",
    "from time import strptime"
   ]
  },
  {
   "attachments": {},
   "cell_type": "markdown",
   "metadata": {},
   "source": [
    "Rafael Hinojosa López\n",
    "\n",
    "A01705777\n",
    "\n",
    "29-05-2023"
   ]
  },
  {
   "cell_type": "code",
   "execution_count": 43,
   "metadata": {},
   "outputs": [],
   "source": [
    "NUM_CLIENTS = 20\n",
    "START_TIME = '18:00'\n",
    "clients = []\n",
    "mins_bet_arrivals = []\n",
    "arrival_hour = []\n",
    "procedure_time = []\n",
    "service_start = []\n",
    "service_end = []\n",
    "waiting_time = []\n",
    "atm_inactivity = []\n"
   ]
  },
  {
   "cell_type": "code",
   "execution_count": 44,
   "metadata": {},
   "outputs": [
    {
     "name": "stdout",
     "output_type": "stream",
     "text": [
      "[1, 2, 3, 4, 5, 6, 7, 8, 9, 10, 11, 12, 13, 14, 15, 16, 17, 18, 19, 20]\n",
      "[0, 10, 7, 9, 2, 7, 2, 9, 7, 6, 4, 0, 8, 7, 1, 6, 9, 7, 4, 4]\n",
      "[2, 4, 5, 3, 3, 2, 2, 5, 2, 2, 1, 4, 2, 4, 5, 3, 1, 1, 1, 1]\n"
     ]
    }
   ],
   "source": [
    "for i in range(0, NUM_CLIENTS):\n",
    "    clients.append(i + 1)\n",
    "    \n",
    "    if i == 0:\n",
    "        mins_bet_arrivals.append(0)\n",
    "    else:\n",
    "        mins = random.randint(0, 10)\n",
    "        mins_bet_arrivals.append(mins)\n",
    "    \n",
    "    mins = random.randint(0, 5)\n",
    "    procedure_time.append(mins)\n",
    "\n",
    "print(clients)\n",
    "print(mins_bet_arrivals)\n",
    "print(procedure_time)\n",
    "    "
   ]
  },
  {
   "cell_type": "code",
   "execution_count": 45,
   "metadata": {},
   "outputs": [
    {
     "name": "stdout",
     "output_type": "stream",
     "text": [
      "[1, 2, 3, 4, 5, 6, 7, 8, 9, 10, 11, 12, 13, 14, 15, 16, 17, 18, 19, 20]\n",
      "[0, 10, 7, 9, 2, 7, 2, 9, 7, 6, 4, 0, 8, 7, 1, 6, 9, 7, 4, 4]\n",
      "[datetime.datetime(1900, 1, 1, 18, 0), datetime.datetime(1900, 1, 1, 18, 10), datetime.datetime(1900, 1, 1, 18, 17), datetime.datetime(1900, 1, 1, 18, 26), datetime.datetime(1900, 1, 1, 18, 28), datetime.datetime(1900, 1, 1, 18, 35), datetime.datetime(1900, 1, 1, 18, 37), datetime.datetime(1900, 1, 1, 18, 46), datetime.datetime(1900, 1, 1, 18, 53), datetime.datetime(1900, 1, 1, 18, 59), datetime.datetime(1900, 1, 1, 19, 3), datetime.datetime(1900, 1, 1, 19, 3), datetime.datetime(1900, 1, 1, 19, 11), datetime.datetime(1900, 1, 1, 19, 18), datetime.datetime(1900, 1, 1, 19, 19), datetime.datetime(1900, 1, 1, 19, 25), datetime.datetime(1900, 1, 1, 19, 34), datetime.datetime(1900, 1, 1, 19, 41), datetime.datetime(1900, 1, 1, 19, 45), datetime.datetime(1900, 1, 1, 19, 49)]\n"
     ]
    }
   ],
   "source": [
    "# Guardar hora de llegada\n",
    "hour = datetime.strptime(START_TIME, '%H:%M')\n",
    "arrival_hour.append(hour)\n",
    "\n",
    "for i in range(1, len(clients)):\n",
    "    mins = mins_bet_arrivals[i]\n",
    "    hour = arrival_hour[i-1] + timedelta(minutes=mins)\n",
    "    arrival_hour.append(hour)\n",
    "\n",
    "print(clients)\n",
    "print(mins_bet_arrivals)\n",
    "print(arrival_hour)\n",
    "\n"
   ]
  },
  {
   "cell_type": "code",
   "execution_count": 46,
   "metadata": {},
   "outputs": [
    {
     "name": "stdout",
     "output_type": "stream",
     "text": [
      "[datetime.datetime(1900, 1, 1, 18, 0), datetime.datetime(1900, 1, 1, 18, 10), datetime.datetime(1900, 1, 1, 18, 17), datetime.datetime(1900, 1, 1, 18, 26), datetime.datetime(1900, 1, 1, 18, 29), datetime.datetime(1900, 1, 1, 18, 35), datetime.datetime(1900, 1, 1, 18, 37), datetime.datetime(1900, 1, 1, 18, 46), datetime.datetime(1900, 1, 1, 18, 53), datetime.datetime(1900, 1, 1, 18, 59), datetime.datetime(1900, 1, 1, 19, 3), datetime.datetime(1900, 1, 1, 19, 4), datetime.datetime(1900, 1, 1, 19, 11), datetime.datetime(1900, 1, 1, 19, 18), datetime.datetime(1900, 1, 1, 19, 22), datetime.datetime(1900, 1, 1, 19, 27), datetime.datetime(1900, 1, 1, 19, 34), datetime.datetime(1900, 1, 1, 19, 41), datetime.datetime(1900, 1, 1, 19, 45), datetime.datetime(1900, 1, 1, 19, 49)]\n",
      "[datetime.datetime(1900, 1, 1, 18, 2), datetime.datetime(1900, 1, 1, 18, 14), datetime.datetime(1900, 1, 1, 18, 22), datetime.datetime(1900, 1, 1, 18, 29), datetime.datetime(1900, 1, 1, 18, 32), datetime.datetime(1900, 1, 1, 18, 37), datetime.datetime(1900, 1, 1, 18, 39), datetime.datetime(1900, 1, 1, 18, 51), datetime.datetime(1900, 1, 1, 18, 55), datetime.datetime(1900, 1, 1, 19, 1), datetime.datetime(1900, 1, 1, 19, 4), datetime.datetime(1900, 1, 1, 19, 8), datetime.datetime(1900, 1, 1, 19, 13), datetime.datetime(1900, 1, 1, 19, 22), datetime.datetime(1900, 1, 1, 19, 27), datetime.datetime(1900, 1, 1, 19, 30), datetime.datetime(1900, 1, 1, 19, 35), datetime.datetime(1900, 1, 1, 19, 42), datetime.datetime(1900, 1, 1, 19, 46), datetime.datetime(1900, 1, 1, 19, 50)]\n"
     ]
    }
   ],
   "source": [
    "# Inicia Servicio\n",
    "\n",
    "acum_arrival_time = []\n",
    "acum_arrival_time.append(0)\n",
    "\n",
    "for i in range(1, len(mins_bet_arrivals)):\n",
    "    acum_arrival_time.append(acum_arrival_time[i-1] + mins_bet_arrivals[i])\n",
    "\n",
    "\n",
    "service_start.append(arrival_hour[0])\n",
    "service_end.append(service_start[0] + timedelta(minutes=procedure_time[0]))\n",
    "\n",
    "for i in range(1, len(clients)):\n",
    "    if arrival_hour[i] <= service_end[i-1]:\n",
    "        service_start.append(service_end[i-1])\n",
    "    else:\n",
    "        service_start.append(arrival_hour[i])\n",
    "    \n",
    "    service_end.append(service_start[i] + timedelta(minutes=procedure_time[i]))\n",
    "\n",
    "\n",
    "print(service_start)\n",
    "print(service_end)"
   ]
  },
  {
   "cell_type": "code",
   "execution_count": 47,
   "metadata": {},
   "outputs": [
    {
     "name": "stdout",
     "output_type": "stream",
     "text": [
      "[0, 0, 0, 0, 1, 0, 0, 0, 0, 0, 0, 1, 0, 0, 3, 2, 0, 0, 0, 0]\n"
     ]
    }
   ],
   "source": [
    "# Tiempo de espera del cliente\n",
    "for i in range(0, len(clients)):\n",
    "    time_diff = service_start[i] - arrival_hour[i]\n",
    "    waiting_time.append(int(time_diff.seconds / 60))\n",
    "\n",
    "print(waiting_time)"
   ]
  },
  {
   "cell_type": "code",
   "execution_count": 48,
   "metadata": {},
   "outputs": [],
   "source": [
    "# Tiempo inactividad del ATM\n",
    "atm_inactivity.append(0)\n",
    "\n",
    "for i in range(1, len(clients)):\n",
    "    time_diff = service_start[i] - service_end[i-1]\n",
    "    atm_inactivity.append(int(time_diff.seconds / 60))"
   ]
  },
  {
   "cell_type": "code",
   "execution_count": 49,
   "metadata": {},
   "outputs": [
    {
     "name": "stdout",
     "output_type": "stream",
     "text": [
      "[0, 8, 3, 4, 0, 3, 0, 7, 2, 4, 2, 0, 3, 5, 0, 0, 4, 6, 3, 3]\n"
     ]
    }
   ],
   "source": [
    "print(atm_inactivity)"
   ]
  },
  {
   "cell_type": "code",
   "execution_count": 50,
   "metadata": {},
   "outputs": [
    {
     "name": "stdout",
     "output_type": "stream",
     "text": [
      "53\n",
      "7\n",
      "57\n",
      "4\n",
      "109\n"
     ]
    }
   ],
   "source": [
    "total_waiting_time = 0\n",
    "total_atm_inactivity = 0\n",
    "total_procedure_time = 0\n",
    "total_clients_waiting = 0\n",
    "total_service_mins = 0\n",
    "\n",
    "for waiting in waiting_time:\n",
    "    total_waiting_time += waiting\n",
    "\n",
    "for inactivity in atm_inactivity:\n",
    "    total_atm_inactivity += inactivity\n",
    "\n",
    "for procedure in procedure_time:\n",
    "    total_procedure_time += procedure\n",
    "\n",
    "for waiting in waiting_time:\n",
    "    if waiting > 0:\n",
    "        total_clients_waiting += 1\n",
    "\n",
    "total_service_mins = int((service_start[len(service_start) - 1] - service_start[0]).seconds / 60)\n",
    "\n",
    "print(total_procedure_time)\n",
    "print(total_waiting_time)\n",
    "print(total_atm_inactivity)\n",
    "print(total_clients_waiting)\n",
    "print(total_service_mins)"
   ]
  },
  {
   "cell_type": "code",
   "execution_count": 51,
   "metadata": {},
   "outputs": [
    {
     "name": "stdout",
     "output_type": "stream",
     "text": [
      "Tiempo de espera promedio por cliente = 0.35 minutos.\n",
      "Probabilidad de que un cliente espere en la fila = 20.0%\n",
      "Porcentaje de tiempo en que el ATM estuvo inactivo = 52.29%\n",
      "Tiempo promedio de servicio = 2.65 minutos.\n"
     ]
    }
   ],
   "source": [
    "waiting_time_per_client = total_waiting_time / len(clients)\n",
    "prob_client_waits = total_clients_waiting / len(clients)\n",
    "atm_inactivity_percentage = total_atm_inactivity / total_service_mins\n",
    "avg_service_time = total_procedure_time / len(clients)\n",
    "\n",
    "print('Tiempo de espera promedio por cliente = ' + str(round(waiting_time_per_client, 2)) + ' minutos.')\n",
    "print('Probabilidad de que un cliente espere en la fila = ' + str(round(prob_client_waits*100, 2)) + '%')\n",
    "print('Porcentaje de tiempo en que el ATM estuvo inactivo = ' + str(round(atm_inactivity_percentage*100, 2)) + '%')\n",
    "print('Tiempo promedio de servicio = ' + str(round(avg_service_time, 2)) + ' minutos.')\n"
   ]
  },
  {
   "attachments": {},
   "cell_type": "markdown",
   "metadata": {},
   "source": [
    "##### Guardar los datos en archivos de Excel"
   ]
  },
  {
   "cell_type": "code",
   "execution_count": 52,
   "metadata": {},
   "outputs": [
    {
     "name": "stdout",
     "output_type": "stream",
     "text": [
      "    Cliente  Tiempo entre llegadas     Hora de llegada  Tiempo del trámite  \\\n",
      "0         1                      0 1900-01-01 18:00:00                   2   \n",
      "1         2                     10 1900-01-01 18:10:00                   4   \n",
      "2         3                      7 1900-01-01 18:17:00                   5   \n",
      "3         4                      9 1900-01-01 18:26:00                   3   \n",
      "4         5                      2 1900-01-01 18:28:00                   3   \n",
      "5         6                      7 1900-01-01 18:35:00                   2   \n",
      "6         7                      2 1900-01-01 18:37:00                   2   \n",
      "7         8                      9 1900-01-01 18:46:00                   5   \n",
      "8         9                      7 1900-01-01 18:53:00                   2   \n",
      "9        10                      6 1900-01-01 18:59:00                   2   \n",
      "10       11                      4 1900-01-01 19:03:00                   1   \n",
      "11       12                      0 1900-01-01 19:03:00                   4   \n",
      "12       13                      8 1900-01-01 19:11:00                   2   \n",
      "13       14                      7 1900-01-01 19:18:00                   4   \n",
      "14       15                      1 1900-01-01 19:19:00                   5   \n",
      "15       16                      6 1900-01-01 19:25:00                   3   \n",
      "16       17                      9 1900-01-01 19:34:00                   1   \n",
      "17       18                      7 1900-01-01 19:41:00                   1   \n",
      "18       19                      4 1900-01-01 19:45:00                   1   \n",
      "19       20                      4 1900-01-01 19:49:00                   1   \n",
      "\n",
      "       Inicia servicio    Termina servicio  Tiempo de espera cliente  \\\n",
      "0  1900-01-01 18:00:00 1900-01-01 18:02:00                         0   \n",
      "1  1900-01-01 18:10:00 1900-01-01 18:14:00                         0   \n",
      "2  1900-01-01 18:17:00 1900-01-01 18:22:00                         0   \n",
      "3  1900-01-01 18:26:00 1900-01-01 18:29:00                         0   \n",
      "4  1900-01-01 18:29:00 1900-01-01 18:32:00                         1   \n",
      "5  1900-01-01 18:35:00 1900-01-01 18:37:00                         0   \n",
      "6  1900-01-01 18:37:00 1900-01-01 18:39:00                         0   \n",
      "7  1900-01-01 18:46:00 1900-01-01 18:51:00                         0   \n",
      "8  1900-01-01 18:53:00 1900-01-01 18:55:00                         0   \n",
      "9  1900-01-01 18:59:00 1900-01-01 19:01:00                         0   \n",
      "10 1900-01-01 19:03:00 1900-01-01 19:04:00                         0   \n",
      "11 1900-01-01 19:04:00 1900-01-01 19:08:00                         1   \n",
      "12 1900-01-01 19:11:00 1900-01-01 19:13:00                         0   \n",
      "13 1900-01-01 19:18:00 1900-01-01 19:22:00                         0   \n",
      "14 1900-01-01 19:22:00 1900-01-01 19:27:00                         3   \n",
      "15 1900-01-01 19:27:00 1900-01-01 19:30:00                         2   \n",
      "16 1900-01-01 19:34:00 1900-01-01 19:35:00                         0   \n",
      "17 1900-01-01 19:41:00 1900-01-01 19:42:00                         0   \n",
      "18 1900-01-01 19:45:00 1900-01-01 19:46:00                         0   \n",
      "19 1900-01-01 19:49:00 1900-01-01 19:50:00                         0   \n",
      "\n",
      "    Tiempo inactividad del ATM  \n",
      "0                            0  \n",
      "1                            8  \n",
      "2                            3  \n",
      "3                            4  \n",
      "4                            0  \n",
      "5                            3  \n",
      "6                            0  \n",
      "7                            7  \n",
      "8                            2  \n",
      "9                            4  \n",
      "10                           2  \n",
      "11                           0  \n",
      "12                           3  \n",
      "13                           5  \n",
      "14                           0  \n",
      "15                           0  \n",
      "16                           4  \n",
      "17                           6  \n",
      "18                           3  \n",
      "19                           3  \n"
     ]
    }
   ],
   "source": [
    "import numpy as np\n",
    "\n",
    "\n",
    "clients = np.array(clients)\n",
    "mins_bet_arrivals = np.array(mins_bet_arrivals)\n",
    "arrival_hour = np.array(arrival_hour)\n",
    "procedure_time = np.array(procedure_time)\n",
    "service_start = np.array(service_start)\n",
    "service_end = np.array(service_end)\n",
    "waiting_time = np.array(waiting_time)\n",
    "atm_inactivity = np.array(atm_inactivity)\n",
    "\n",
    "# Create a dictionary of arrays\n",
    "data = {\n",
    "    'Cliente': clients,\n",
    "    'Tiempo entre llegadas': mins_bet_arrivals,\n",
    "    'Hora de llegada': arrival_hour,\n",
    "    'Tiempo del trámite': procedure_time,\n",
    "    'Inicia servicio': service_start,\n",
    "    'Termina servicio': service_end,\n",
    "    'Tiempo de espera cliente': waiting_time,\n",
    "    'Tiempo inactividad del ATM': atm_inactivity\n",
    "}\n",
    "\n",
    "# Convert the dictionary to a DataFrame\n",
    "df = pd.DataFrame(data)\n",
    "\n",
    "# Display the resulting DataFrame\n",
    "print(df)"
   ]
  },
  {
   "cell_type": "code",
   "execution_count": 53,
   "metadata": {},
   "outputs": [
    {
     "name": "stdout",
     "output_type": "stream",
     "text": [
      "0     06:00 PM\n",
      "1     06:10 PM\n",
      "2     06:17 PM\n",
      "3     06:26 PM\n",
      "4     06:28 PM\n",
      "5     06:35 PM\n",
      "6     06:37 PM\n",
      "7     06:46 PM\n",
      "8     06:53 PM\n",
      "9     06:59 PM\n",
      "10    07:03 PM\n",
      "11    07:03 PM\n",
      "12    07:11 PM\n",
      "13    07:18 PM\n",
      "14    07:19 PM\n",
      "15    07:25 PM\n",
      "16    07:34 PM\n",
      "17    07:41 PM\n",
      "18    07:45 PM\n",
      "19    07:49 PM\n",
      "Name: Hora de llegada, dtype: object\n",
      "0     06:00 PM\n",
      "1     06:10 PM\n",
      "2     06:17 PM\n",
      "3     06:26 PM\n",
      "4     06:29 PM\n",
      "5     06:35 PM\n",
      "6     06:37 PM\n",
      "7     06:46 PM\n",
      "8     06:53 PM\n",
      "9     06:59 PM\n",
      "10    07:03 PM\n",
      "11    07:04 PM\n",
      "12    07:11 PM\n",
      "13    07:18 PM\n",
      "14    07:22 PM\n",
      "15    07:27 PM\n",
      "16    07:34 PM\n",
      "17    07:41 PM\n",
      "18    07:45 PM\n",
      "19    07:49 PM\n",
      "Name: Inicia servicio, dtype: object\n",
      "0     06:02 PM\n",
      "1     06:14 PM\n",
      "2     06:22 PM\n",
      "3     06:29 PM\n",
      "4     06:32 PM\n",
      "5     06:37 PM\n",
      "6     06:39 PM\n",
      "7     06:51 PM\n",
      "8     06:55 PM\n",
      "9     07:01 PM\n",
      "10    07:04 PM\n",
      "11    07:08 PM\n",
      "12    07:13 PM\n",
      "13    07:22 PM\n",
      "14    07:27 PM\n",
      "15    07:30 PM\n",
      "16    07:35 PM\n",
      "17    07:42 PM\n",
      "18    07:46 PM\n",
      "19    07:50 PM\n",
      "Name: Termina servicio, dtype: object\n"
     ]
    }
   ],
   "source": [
    "hora_llegada_12h = []\n",
    "inicia_servicio_12h = []\n",
    "termina_servicio_12h = []\n",
    "\n",
    "for i in range(0, len(df['Hora de llegada'])):\n",
    "    # Convertir a hora de 12 horas\n",
    "    hora_llegada_12h.append(df['Hora de llegada'][i].strftime(\"%I:%M %p\"))\n",
    "\n",
    "for i in range(0, len(df['Inicia servicio'])):\n",
    "    inicia_servicio_12h.append(df['Inicia servicio'][i].strftime(\"%I:%M %p\"))\n",
    "\n",
    "for i in range(0, len(df['Termina servicio'])):\n",
    "    termina_servicio_12h.append(df['Termina servicio'][i].strftime(\"%I:%M %p\"))\n",
    "\n",
    "df['Hora de llegada'] = hora_llegada_12h\n",
    "df['Inicia servicio'] = inicia_servicio_12h\n",
    "df['Termina servicio'] = termina_servicio_12h\n",
    "\n",
    "print(df['Hora de llegada'])\n",
    "print(df['Inicia servicio'])\n",
    "print(df['Termina servicio'])"
   ]
  },
  {
   "cell_type": "code",
   "execution_count": 54,
   "metadata": {},
   "outputs": [],
   "source": [
    "output_path = 'output.xlsx'\n",
    "\n",
    "df.to_excel(output_path, index=False)"
   ]
  }
 ],
 "metadata": {
  "kernelspec": {
   "display_name": "Python 3",
   "language": "python",
   "name": "python3"
  },
  "language_info": {
   "codemirror_mode": {
    "name": "ipython",
    "version": 3
   },
   "file_extension": ".py",
   "mimetype": "text/x-python",
   "name": "python",
   "nbconvert_exporter": "python",
   "pygments_lexer": "ipython3",
   "version": "3.8.0"
  },
  "orig_nbformat": 4
 },
 "nbformat": 4,
 "nbformat_minor": 2
}
