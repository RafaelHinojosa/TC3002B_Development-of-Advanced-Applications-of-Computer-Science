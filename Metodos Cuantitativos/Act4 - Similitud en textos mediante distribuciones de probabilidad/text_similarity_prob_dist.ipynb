{
 "cells": [
  {
   "attachments": {},
   "cell_type": "markdown",
   "metadata": {},
   "source": [
    "### Similitud de textos usando distribuciones de probabilidad"
   ]
  },
  {
   "cell_type": "code",
   "execution_count": 95,
   "metadata": {},
   "outputs": [],
   "source": [
    "import markovify\n",
    "import re\n",
    "import math"
   ]
  },
  {
   "attachments": {},
   "cell_type": "markdown",
   "metadata": {},
   "source": [
    "#### Obtener y generar los textos"
   ]
  },
  {
   "cell_type": "code",
   "execution_count": 122,
   "metadata": {},
   "outputs": [],
   "source": [
    "# Read the original text \n",
    "\n",
    "with open(\"./sol_1.txt\", 'r', encoding='utf-8') as f:\n",
    "    original_text = f.read()\n"
   ]
  },
  {
   "cell_type": "code",
   "execution_count": 97,
   "metadata": {},
   "outputs": [
    {
     "data": {
      "text/plain": [
       "'Por lo cual su casa está inclinada a la sabiduría; Si inclinares tu corazón a la inteligencia, Y a la prudencia dieres tu voz; Si como a tesoros, Entonces entenderás el temor de Jehová, Y hallarás el conocimiento y la inteligencia.Por lo cual su casa está inclinada a la prudencia dieres tu voz; Si como a tesoros, Entonces entenderás justicia, juicio Y equidad, y todo buen camino.Así andarás por el camino de sus santos.Es el que guarda las veredas de los buenos, Y seguirás las veredas de los buenos, Y seguirás las veredas de los buenos, Y seguirás las veredas del juicio, Y preserva el camino de los justos; Porque los rectos habitarán la tierra, Y los prevaricadores serán de ella desarraigados.Por lo cual su casa está inclinada a la prudencia, Si clamares a la muerte, Y sus veredas hacia los muertos; Todos los que caminan rectamente.Él provee de sana sabiduría a los que caminan rectamente.Cuando la sabiduría entrare en tu corazón, Y la escudriñares como a la prudencia dieres tu voz; Si como a tesoros, Entonces entenderás el temor de Jehová, Y hallarás el conocimiento y la inteligencia.Serás librado de la vida.Cuando la sabiduría entrare en tu corazón, Y la escudriñares como a tesoros, Entonces entenderás justicia, juicio Y equidad, y todo buen camino.Cuando la sabiduría entrare en tu corazón, Y la escudriñares como a tesoros, Entonces entenderás justicia, juicio Y equidad, y todo buen camino.Así andarás por el camino de los justos; Porque los rectos habitarán la tierra, Y los prevaricadores serán de ella desarraigados.Así andarás por el camino de sus santos.Así andarás por el camino de los buenos, Y seguirás las veredas del juicio, Y preserva el camino de sus santos.Serás librado de la vida.Así andarás por el camino de sus santos.Por lo cual su casa está inclinada a la prudencia dieres tu voz; Si como a tesoros, Entonces entenderás justicia, juicio Y equidad, y todo buen camino.Porque Jehová da la sabiduría, Y de su juventud, Y se olvida del pacto de su boca viene el conocimiento y la inteligencia.Es el que guarda las veredas de los justos; Porque los rectos habitarán la tierra, Y los prevaricadores serán de ella desarraigados.Así andarás por el camino de sus santos.Él provee de sana sabiduría a los que caminan rectamente.'"
      ]
     },
     "execution_count": 97,
     "metadata": {},
     "output_type": "execute_result"
    }
   ],
   "source": [
    "# Generate a markovified version of the original text\n",
    "\n",
    "model = markovify.Text(original_text)\n",
    "\n",
    "markovified_text = ''\n",
    "\n",
    "for i in range(20):\n",
    "    sentence = model.make_sentence()\n",
    "    \n",
    "    if sentence is None:\n",
    "        continue\n",
    "\n",
    "    markovified_text += str(sentence)\n",
    "\n",
    "# Save generated text\n",
    "with open(\"./markovified_text.txt\", 'w', encoding='utf-8') as f:\n",
    "    f.write(markovified_text)\n",
    "\n",
    "markovified_text"
   ]
  },
  {
   "cell_type": "code",
   "execution_count": 124,
   "metadata": {},
   "outputs": [],
   "source": [
    "# Run to exchange the markovified text with the extra_text\n",
    "with open(\"./sol_2.txt\", 'r', encoding='utf-8') as f:\n",
    "    markovified_text = f.read()"
   ]
  },
  {
   "attachments": {},
   "cell_type": "markdown",
   "metadata": {},
   "source": [
    "#### Preprocesar los textos"
   ]
  },
  {
   "cell_type": "code",
   "execution_count": 125,
   "metadata": {},
   "outputs": [
    {
     "name": "stdout",
     "output_type": "stream",
     "text": [
      "32\n",
      "['for', '_', 'in', 'range', 'int', 'input', 's', 'input', 'c', 'codeforces', 'if', 's', 'c', 'print', '0', 'else', 'indexes', '0', 'for', 'i', 'in', 'range', '10', 'if', 's', 'i', 'c', 'i', 'indexes', '1', 'print', 'indexes']\n",
      "30\n",
      "['t', 'input', 'al', '0', 'orgstr', 'codeforces', 'for', 'x', 'in', 'range', 'int', 't', 'al', '0', 'string', 'input', 'for', 'y', 'in', 'range', '10', 'if', 'string', 'y', 'orgstr', 'y', 'al', '1', 'print', 'al']\n"
     ]
    }
   ],
   "source": [
    "# Separar por palabras ambos textos\n",
    "\n",
    "original_text = original_text.lower()\n",
    "markovified_text = markovified_text.lower()\n",
    "\n",
    "original_words = re.findall(r'\\w+', original_text)\n",
    "markovified_words = re.findall(r'\\w+', markovified_text)\n",
    "\n",
    "print(len(original_words))\n",
    "print(original_words)\n",
    "print(len(markovified_words))\n",
    "print(markovified_words)"
   ]
  },
  {
   "cell_type": "code",
   "execution_count": 126,
   "metadata": {},
   "outputs": [
    {
     "name": "stdout",
     "output_type": "stream",
     "text": [
      "{'for': 2, '_': 1, 'in': 2, 'range': 2, 'int': 1, 'input': 2, 's': 3, 'c': 3, 'codeforces': 1, 'if': 2, 'print': 2, '0': 2, 'else': 1, 'indexes': 3, 'i': 3, '10': 1, '1': 1, 't': 0, 'al': 0, 'orgstr': 0, 'x': 0, 'string': 0, 'y': 0}\n",
      "{'for': 2, '_': 0, 'in': 2, 'range': 2, 'int': 1, 'input': 2, 's': 0, 'c': 0, 'codeforces': 1, 'if': 1, 'print': 1, '0': 2, 'else': 0, 'indexes': 0, 'i': 0, '10': 1, '1': 1, 't': 2, 'al': 4, 'orgstr': 2, 'x': 1, 'string': 2, 'y': 3}\n"
     ]
    }
   ],
   "source": [
    "# Calcular las repeticiones de todas las palabras combinadas en cada diccionario\n",
    "\n",
    "combined_text = original_words + markovified_words\n",
    "\n",
    "original_dict = {}\n",
    "markovified_dict = {}\n",
    "\n",
    "for word in combined_text:\n",
    "    in_original = (original_dict.get(word) is not None)\n",
    "    in_markovified = (markovified_dict.get(word) is not None)\n",
    "\n",
    "    if in_original == False:\n",
    "        original_dict[word] = 0\n",
    "    if in_markovified == False:\n",
    "        markovified_dict[word] = 0\n",
    "\n",
    "for word in original_words:\n",
    "    original_dict[word] += 1\n",
    "\n",
    "for word in markovified_words:\n",
    "    markovified_dict[word] += 1\n",
    "\n",
    "\n",
    "print(original_dict)\n",
    "print(markovified_dict)"
   ]
  },
  {
   "attachments": {},
   "cell_type": "markdown",
   "metadata": {},
   "source": [
    "#### Vectorizar los textos "
   ]
  },
  {
   "cell_type": "code",
   "execution_count": 127,
   "metadata": {},
   "outputs": [
    {
     "name": "stdout",
     "output_type": "stream",
     "text": [
      "{'for': 0.0625, '_': 0.03125, 'in': 0.0625, 'range': 0.0625, 'int': 0.03125, 'input': 0.0625, 's': 0.09375, 'c': 0.09375, 'codeforces': 0.03125, 'if': 0.0625, 'print': 0.0625, '0': 0.0625, 'else': 0.03125, 'indexes': 0.09375, 'i': 0.09375, '10': 0.03125, '1': 0.03125, 't': 0.0, 'al': 0.0, 'orgstr': 0.0, 'x': 0.0, 'string': 0.0, 'y': 0.0}\n",
      "{'for': 0.06666666666666667, '_': 0, 'in': 0.06666666666666667, 'range': 0.06666666666666667, 'int': 0.03333333333333333, 'input': 0.06666666666666667, 's': 0, 'c': 0, 'codeforces': 0.03333333333333333, 'if': 0.03333333333333333, 'print': 0.03333333333333333, '0': 0.06666666666666667, 'else': 0, 'indexes': 0, 'i': 0, '10': 0.03333333333333333, '1': 0.03333333333333333, 't': 0.06666666666666667, 'al': 0.13333333333333333, 'orgstr': 0.06666666666666667, 'x': 0.03333333333333333, 'string': 0.06666666666666667, 'y': 0.1}\n"
     ]
    }
   ],
   "source": [
    "# Generate TF of original and markovified\n",
    "total_original_words = 0\n",
    "total_markovified_words = 0\n",
    "\n",
    "for word in original_dict:\n",
    "    total_original_words += original_dict[word]\n",
    "\n",
    "for word in markovified_dict:\n",
    "    total_markovified_words += markovified_dict[word]\n",
    "\n",
    "original_tf = {}\n",
    "markovified_tf = {}\n",
    "\n",
    "for word in original_dict:\n",
    "    original_tf[word] = original_dict[word] / total_original_words\n",
    "\n",
    "for word in markovified_dict:\n",
    "    if markovified_dict[word] == 0:\n",
    "        markovified_tf[word] = 0\n",
    "    else:\n",
    "        markovified_tf[word] = markovified_dict[word] / total_markovified_words\n",
    "\n",
    "print(original_tf)\n",
    "print(markovified_tf)"
   ]
  },
  {
   "cell_type": "code",
   "execution_count": 128,
   "metadata": {},
   "outputs": [
    {
     "name": "stdout",
     "output_type": "stream",
     "text": [
      "{'for': 0.5945348918918356, '_': 1.0, 'in': 0.5945348918918356, 'range': 0.5945348918918356, 'int': 0.5945348918918356, 'input': 0.5945348918918356, 's': 1.0, 'c': 1.0, 'codeforces': 0.5945348918918356, 'if': 0.5945348918918356, 'print': 0.5945348918918356, '0': 0.5945348918918356, 'else': 1.0, 'indexes': 1.0, 'i': 1.0, '10': 0.5945348918918356, '1': 0.5945348918918356, 't': 1.0, 'al': 1.0, 'orgstr': 1.0, 'x': 1.0, 'string': 1.0, 'y': 1.0}\n"
     ]
    }
   ],
   "source": [
    "# Generar IDF\n",
    "# IDF = ln(NoDocs / (NoDocs containing word + 1)) + 1\n",
    "\n",
    "idf = {}\n",
    "\n",
    "for word in original_dict:\n",
    "    no_docs = 2\n",
    "    no_docs_with_word = 0\n",
    "\n",
    "    if original_dict[word] > 0:\n",
    "        no_docs_with_word += 1\n",
    "    if markovified_dict[word] > 0:\n",
    "        no_docs_with_word += 1\n",
    "\n",
    "    idf[word] = math.log(no_docs / (no_docs_with_word + 1)) + 1\n",
    "\n",
    "print(idf)"
   ]
  },
  {
   "cell_type": "code",
   "execution_count": 129,
   "metadata": {},
   "outputs": [
    {
     "name": "stdout",
     "output_type": "stream",
     "text": [
      "{'for': 0.037158430743239726, '_': 0.03125, 'in': 0.037158430743239726, 'range': 0.037158430743239726, 'int': 0.018579215371619863, 'input': 0.037158430743239726, 's': 0.09375, 'c': 0.09375, 'codeforces': 0.018579215371619863, 'if': 0.037158430743239726, 'print': 0.037158430743239726, '0': 0.037158430743239726, 'else': 0.03125, 'indexes': 0.09375, 'i': 0.09375, '10': 0.018579215371619863, '1': 0.018579215371619863, 't': 0.0, 'al': 0.0, 'orgstr': 0.0, 'x': 0.0, 'string': 0.0, 'y': 0.0}\n",
      "{'for': 0.039635659459455706, '_': 0.0, 'in': 0.039635659459455706, 'range': 0.039635659459455706, 'int': 0.019817829729727853, 'input': 0.039635659459455706, 's': 0.0, 'c': 0.0, 'codeforces': 0.019817829729727853, 'if': 0.019817829729727853, 'print': 0.019817829729727853, '0': 0.039635659459455706, 'else': 0.0, 'indexes': 0.0, 'i': 0.0, '10': 0.019817829729727853, '1': 0.019817829729727853, 't': 0.06666666666666667, 'al': 0.13333333333333333, 'orgstr': 0.06666666666666667, 'x': 0.03333333333333333, 'string': 0.06666666666666667, 'y': 0.1}\n"
     ]
    }
   ],
   "source": [
    "# Generar tf_idf_original y tf_idf_markovified\n",
    "\n",
    "tf_idf_original = {}\n",
    "tf_idf_markovified = {}\n",
    "\n",
    "for word in idf:\n",
    "    tf_idf_original[word] = idf[word] * original_tf[word]\n",
    "    tf_idf_markovified[word] = idf[word] * markovified_tf[word]\n",
    "\n",
    "print(tf_idf_original)\n",
    "print(tf_idf_markovified)"
   ]
  },
  {
   "attachments": {},
   "cell_type": "markdown",
   "metadata": {},
   "source": [
    "#### Calcular la distancia coseno"
   ]
  },
  {
   "cell_type": "code",
   "execution_count": 130,
   "metadata": {},
   "outputs": [
    {
     "name": "stdout",
     "output_type": "stream",
     "text": [
      "0.4183300132670378\n"
     ]
    }
   ],
   "source": [
    "# Calcular distancia del coseno\n",
    "uv = 0\n",
    "_u = 0\n",
    "_v = 0\n",
    "_u_v = 0\n",
    "cos_distance = 0\n",
    "\n",
    "for word in original_dict:\n",
    "    uv += (original_dict[word] * markovified_dict[word])\n",
    "\n",
    "for word in original_dict:\n",
    "    _u += math.pow(original_dict[word], 2)\n",
    "\n",
    "for word in markovified_dict:\n",
    "    _v += math.pow(markovified_dict[word], 2)\n",
    "\n",
    "_u = math.sqrt(_u)\n",
    "_v = math.sqrt(_v)\n",
    "\n",
    "_u_v = _u*_v\n",
    "\n",
    "if _u_v == 0:\n",
    "    cos_distance = 0\n",
    "else:\n",
    "    cos_distance = uv / _u_v\n",
    "\n",
    "print(cos_distance)"
   ]
  },
  {
   "cell_type": "code",
   "execution_count": 131,
   "metadata": {},
   "outputs": [
    {
     "name": "stdout",
     "output_type": "stream",
     "text": [
      "The markovified/extra text is 41.8% similar to the original text, calculated with the cosine distance.\n",
      "The markovified/extra text is 0.938 times bigger than the original text.\n"
     ]
    }
   ],
   "source": [
    "# Print results\n",
    "print('The markovified/extra text is ' + str(round(cos_distance, 3) * 100) + '% similar to the original text, calculated with the cosine distance.')\n",
    "print('The markovified/extra text is ' + str(round((total_markovified_words / total_original_words), 3)) + ' times bigger than the original text.')"
   ]
  },
  {
   "attachments": {},
   "cell_type": "markdown",
   "metadata": {},
   "source": [
    "#### Reflexiones"
   ]
  },
  {
   "attachments": {},
   "cell_type": "markdown",
   "metadata": {},
   "source": [
    "6. Reflexiona: ¿Como varía la medida de similitud en función del texto que quieres comparar? ¿Si la métrica nos indica que son muy similares eso es garantía de que fueron realizados por el mismo autor?\n",
    "\n",
    "La medida de similitud varía según la frecuencia con la que aparezca una palabra en ambos textos. ???? CAMBIAR\n",
    "\n",
    "No es una garantía que haya mucha similitud en los textos si nos basamos en la métrica de la distancia del coseno. Esto se debe a que esta es calculada a partir de las frecuencias de cada palabra en ambos textos. Si dos textos tuvieran las mismas palabras, pero ordenadas de diferente manera, y suponiendo que esto genera significados completamente distintos, aún así se obtendría un 100% de similitud entre los dos."
   ]
  },
  {
   "attachments": {},
   "cell_type": "markdown",
   "metadata": {},
   "source": [
    "7. Adecua tu programa para encontrar similitud entre dos códigos hechos en Python. ¿Qué preprocesamiento tendrías que hacer con los códigos antes de compararlos?\n",
    "\n",
    "El programa está adecuado para encontrar similitud entre dos códigos de Python ?? pero no tiene ) o así... solo checarlo... chance checar los simbolos y así...."
   ]
  },
  {
   "attachments": {},
   "cell_type": "markdown",
   "metadata": {},
   "source": [
    "8. Realiza distintas pruebas con distintos códigos hechos en Python. ¿Crees que esta técnica es adecuada para encontrar la similitud entre códigos?"
   ]
  }
 ],
 "metadata": {
  "kernelspec": {
   "display_name": "Python 3",
   "language": "python",
   "name": "python3"
  },
  "language_info": {
   "codemirror_mode": {
    "name": "ipython",
    "version": 3
   },
   "file_extension": ".py",
   "mimetype": "text/x-python",
   "name": "python",
   "nbconvert_exporter": "python",
   "pygments_lexer": "ipython3",
   "version": "3.8.0"
  },
  "orig_nbformat": 4
 },
 "nbformat": 4,
 "nbformat_minor": 2
}
