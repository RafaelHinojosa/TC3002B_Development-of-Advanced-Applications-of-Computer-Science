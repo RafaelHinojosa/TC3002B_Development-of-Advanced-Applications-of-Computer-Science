{
 "cells": [
  {
   "attachments": {},
   "cell_type": "markdown",
   "metadata": {},
   "source": [
    "### Similitud de textos usando distribuciones de probabilidad"
   ]
  },
  {
   "attachments": {},
   "cell_type": "markdown",
   "metadata": {},
   "source": [
    "Rafael Hinojosa López\n",
    "\n",
    "A01705777\n",
    "\n",
    "27-05-2023\n",
    "\n",
    "Desarrollo de aplicaciones avanzadas de ciencias computacionales (Gpo 301)"
   ]
  },
  {
   "cell_type": "code",
   "execution_count": 42,
   "metadata": {},
   "outputs": [],
   "source": [
    "import markovify\n",
    "import re\n",
    "import math"
   ]
  },
  {
   "attachments": {},
   "cell_type": "markdown",
   "metadata": {},
   "source": [
    "#### Obtener y generar los textos"
   ]
  },
  {
   "cell_type": "code",
   "execution_count": 77,
   "metadata": {},
   "outputs": [],
   "source": [
    "# Read the original text \n",
    "\n",
    "with open(\"./original_text.txt\", 'r', encoding='utf-8') as f:\n",
    "    original_text = f.read()\n"
   ]
  },
  {
   "cell_type": "code",
   "execution_count": 78,
   "metadata": {},
   "outputs": [
    {
     "data": {
      "text/plain": [
       "'Por lo cual su casa está inclinada a la prudencia, Si clamares a la muerte, Y sus veredas hacia los muertos; Todos los que caminan rectamente.Por lo cual su casa está inclinada a la sabiduría; Si inclinares tu corazón a la prudencia, Si clamares a la muerte, Y sus veredas hacia los muertos; Todos los que caminan rectamente.Por lo cual su casa está inclinada a la prudencia dieres tu voz; Si como a tesoros, Entonces entenderás justicia, juicio Y equidad, y todo buen camino.Por lo cual su casa está inclinada a la prudencia, Si clamares a la sabiduría; Si inclinares tu corazón a la prudencia, Si clamares a la sabiduría; Si inclinares tu corazón a la sabiduría; Si inclinares tu corazón a la inteligencia, Y a la muerte, Y sus veredas hacia los muertos; Todos los que caminan rectamente.Es el que guarda las veredas del juicio, Y preserva el camino de los justos; Porque los rectos habitarán la tierra, Y los prevaricadores serán de ella desarraigados.Es el que guarda las veredas de los buenos, Y seguirás las veredas de los buenos, Y seguirás las veredas del juicio, Y preserva el camino de sus santos.Porque Jehová da la sabiduría, Y de su juventud, Y se olvida del pacto de su Dios.Cuando la sabiduría entrare en tu corazón, Y la escudriñares como a la inteligencia, Y a la sabiduría; Si inclinares tu corazón a la prudencia dieres tu voz; Si como a tesoros, Entonces entenderás justicia, juicio Y equidad, y todo buen camino.Él provee de sana sabiduría a los rectos; Es escudo a los rectos; Es escudo a los rectos; Es escudo a los que caminan rectamente.Porque Jehová da la sabiduría, Y de su juventud, Y se olvida del pacto de su juventud, Y se olvida del pacto de su juventud, Y se olvida del pacto de su boca viene el conocimiento y la inteligencia.Por lo cual su casa está inclinada a la inteligencia, Y a la inteligencia, Y a la plata la buscares, Y la escudriñares como a tesoros, Entonces entenderás justicia, juicio Y equidad, y todo buen camino.Porque Jehová da la sabiduría, Y de su juventud, Y se olvida del pacto de su juventud, Y se olvida del pacto de su juventud, Y se olvida del pacto de su juventud, Y se olvida del pacto de su Dios.Serás librado de la vida.Serás librado de la vida.Así andarás por el camino de sus santos.Cuando la sabiduría entrare en tu corazón, Y la escudriñares como a tesoros, Entonces entenderás justicia, juicio Y equidad, y todo buen camino.Porque Jehová da la sabiduría, Y de su juventud, Y se olvida del pacto de su boca viene el conocimiento y la inteligencia.Así andarás por el camino de los justos; Porque los rectos habitarán la tierra, Y los prevaricadores serán de ella desarraigados.Él provee de sana sabiduría a los que caminan rectamente.Por lo cual su casa está inclinada a la inteligencia, Y a la prudencia dieres tu voz; Si como a tesoros, Entonces entenderás el temor de Jehová, Y hallarás el conocimiento de Dios.'"
      ]
     },
     "execution_count": 78,
     "metadata": {},
     "output_type": "execute_result"
    }
   ],
   "source": [
    "# Generate a markovified version of the original text\n",
    "# Skip for Python files because of symbols the code conatins and Markovify does not support\n",
    "\n",
    "model = markovify.Text(original_text)\n",
    "\n",
    "markovified_text = ''\n",
    "\n",
    "\n",
    "for i in range(20):\n",
    "    sentence = model.make_sentence()\n",
    "    \n",
    "    if sentence is None:\n",
    "        continue\n",
    "\n",
    "    markovified_text += str(sentence)\n",
    "\n",
    "# Save generated text\n",
    "with open(\"./markovified_text.txt\", 'w', encoding='utf-8') as f:\n",
    "    f.write(markovified_text)\n",
    "\n",
    "markovified_text"
   ]
  },
  {
   "cell_type": "code",
   "execution_count": 67,
   "metadata": {},
   "outputs": [],
   "source": [
    "# Run to exchange the markovified text with the extra_text\n",
    "with open(\"./sol_4.txt\", 'r', encoding='utf-8') as f:\n",
    "    markovified_text = f.read()"
   ]
  },
  {
   "attachments": {},
   "cell_type": "markdown",
   "metadata": {},
   "source": [
    "#### Preprocesar los textos"
   ]
  },
  {
   "cell_type": "code",
   "execution_count": 79,
   "metadata": {},
   "outputs": [
    {
     "name": "stdout",
     "output_type": "stream",
     "text": [
      "329\n",
      "['hijo', 'm', 'ío', ',', 'si', 'recibieres', 'mis', 'palabras,', 'y', 'mis', 'mandamientos', 'guardares', 'dentro', 'de', 'ti,', 'haciendo', 'estar', 'atento', 'tu', 'o', 'ído', 'a', 'la', 'sabidur', 'ía', 'si', 'inclinares', 'tu', 'coraz', 'ón', 'a', 'la', 'prudencia,', 'si', 'clamares', 'a', 'la', 'inteligencia,', 'y', 'a', 'la', 'prudencia', 'dieres', 'tu', 'voz', 'si', 'como', 'a', 'la', 'plata', 'la', 'buscares,', 'y', 'la', 'escudri', 'ñares', 'como', 'a', 'tesoros,', 'entonces', 'entender', 'ás', 'el', 'temor', 'de', 'jehov', 'á', ',', 'y', 'hallar', 'ás', 'el', 'conocimiento', 'de', 'dios.', 'porque', 'jehov', 'á', 'da', 'la', 'sabidur', 'ía', ',', 'y', 'de', 'su', 'boca', 'viene', 'el', 'conocimiento', 'y', 'la', 'inteligencia.', 'él', 'provee', 'de', 'sana', 'sabidur', 'ía', 'a', 'los', 'rectos', 'es', 'escudo', 'a', 'los', 'que', 'caminan', 'rectamente.', 'es', 'el', 'que', 'guarda', 'las', 'veredas', 'del', 'juicio,', 'y', 'preserva', 'el', 'camino', 'de', 'sus', 'santos.', 'entonces', 'entender', 'ás', 'justicia,', 'juicio', 'y', 'equidad,', 'y', 'todo', 'buen', 'camino.', 'cuando', 'la', 'sabidur', 'ía', 'entrare', 'en', 'tu', 'coraz', 'ón', ',', 'y', 'la', 'ciencia', 'fuere', 'grata', 'a', 'tu', 'alma,', 'la', 'discreci', 'ón', 'te', 'guardar', 'á', 'te', 'preservar', 'á', 'la', 'inteligencia,', 'para', 'librarte', 'del', 'mal', 'camino,', 'de', 'los', 'hombres', 'que', 'hablan', 'perversidades,', 'que', 'dejan', 'los', 'caminos', 'derechos,', 'para', 'andar', 'por', 'sendas', 'tenebrosas', 'que', 'se', 'alegran', 'haciendo', 'el', 'mal,', 'que', 'se', 'huelgan', 'en', 'las', 'perversidades', 'del', 'vicio', 'cuyas', 'veredas', 'son', 'torcidas,', 'y', 'torcidos', 'sus', 'caminos.', 'ser', 'ás', 'librado', 'de', 'la', 'mujer', 'extra', 'ña', ',', 'de', 'la', 'ajena', 'que', 'halaga', 'con', 'sus', 'palabras,', 'la', 'cual', 'abandona', 'al', 'compa', 'ñero', 'de', 'su', 'juventud,', 'y', 'se', 'olvida', 'del', 'pacto', 'de', 'su', 'dios.', 'por', 'lo', 'cual', 'su', 'casa', 'est', 'á', 'inclinada', 'a', 'la', 'muerte,', 'y', 'sus', 'veredas', 'hacia', 'los', 'muertos', 'todos', 'los', 'que', 'a', 'ella', 'se', 'lleguen,', 'no', 'volver', 'án', ',', 'ni', 'seguir', 'án', 'otra', 'vez', 'los', 'senderos', 'de', 'la', 'vida.', 'as', 'í', 'andar', 'ás', 'por', 'el', 'camino', 'de', 'los', 'buenos,', 'y', 'seguir', 'ás', 'las', 'veredas', 'de', 'los', 'justos', 'porque', 'los', 'rectos', 'habitar', 'án', 'la', 'tierra,', 'y', 'los', 'perfectos', 'permanecer', 'án', 'en', 'ella,', 'mas', 'los', 'imp', 'íos', 'ser', 'án', 'cortados', 'de', 'la', 'tierra,', 'y', 'los', 'prevaricadores', 'ser', 'án', 'de', 'ella', 'desarraigados.']\n",
      "569\n",
      "['por', 'lo', 'cual', 'su', 'casa', 'est', 'á', 'inclinada', 'a', 'la', 'prudencia,', 'si', 'clamares', 'a', 'la', 'muerte,', 'y', 'sus', 'veredas', 'hacia', 'los', 'muertos', 'todos', 'los', 'que', 'caminan', 'rectamente.por', 'lo', 'cual', 'su', 'casa', 'est', 'á', 'inclinada', 'a', 'la', 'sabidur', 'ía', 'si', 'inclinares', 'tu', 'coraz', 'ón', 'a', 'la', 'prudencia,', 'si', 'clamares', 'a', 'la', 'muerte,', 'y', 'sus', 'veredas', 'hacia', 'los', 'muertos', 'todos', 'los', 'que', 'caminan', 'rectamente.por', 'lo', 'cual', 'su', 'casa', 'est', 'á', 'inclinada', 'a', 'la', 'prudencia', 'dieres', 'tu', 'voz', 'si', 'como', 'a', 'tesoros,', 'entonces', 'entender', 'ás', 'justicia,', 'juicio', 'y', 'equidad,', 'y', 'todo', 'buen', 'camino.por', 'lo', 'cual', 'su', 'casa', 'est', 'á', 'inclinada', 'a', 'la', 'prudencia,', 'si', 'clamares', 'a', 'la', 'sabidur', 'ía', 'si', 'inclinares', 'tu', 'coraz', 'ón', 'a', 'la', 'prudencia,', 'si', 'clamares', 'a', 'la', 'sabidur', 'ía', 'si', 'inclinares', 'tu', 'coraz', 'ón', 'a', 'la', 'sabidur', 'ía', 'si', 'inclinares', 'tu', 'coraz', 'ón', 'a', 'la', 'inteligencia,', 'y', 'a', 'la', 'muerte,', 'y', 'sus', 'veredas', 'hacia', 'los', 'muertos', 'todos', 'los', 'que', 'caminan', 'rectamente.es', 'el', 'que', 'guarda', 'las', 'veredas', 'del', 'juicio,', 'y', 'preserva', 'el', 'camino', 'de', 'los', 'justos', 'porque', 'los', 'rectos', 'habitar', 'án', 'la', 'tierra,', 'y', 'los', 'prevaricadores', 'ser', 'án', 'de', 'ella', 'desarraigados.es', 'el', 'que', 'guarda', 'las', 'veredas', 'de', 'los', 'buenos,', 'y', 'seguir', 'ás', 'las', 'veredas', 'de', 'los', 'buenos,', 'y', 'seguir', 'ás', 'las', 'veredas', 'del', 'juicio,', 'y', 'preserva', 'el', 'camino', 'de', 'sus', 'santos.porque', 'jehov', 'á', 'da', 'la', 'sabidur', 'ía', ',', 'y', 'de', 'su', 'juventud,', 'y', 'se', 'olvida', 'del', 'pacto', 'de', 'su', 'dios.cuando', 'la', 'sabidur', 'ía', 'entrare', 'en', 'tu', 'coraz', 'ón', ',', 'y', 'la', 'escudri', 'ñares', 'como', 'a', 'la', 'inteligencia,', 'y', 'a', 'la', 'sabidur', 'ía', 'si', 'inclinares', 'tu', 'coraz', 'ón', 'a', 'la', 'prudencia', 'dieres', 'tu', 'voz', 'si', 'como', 'a', 'tesoros,', 'entonces', 'entender', 'ás', 'justicia,', 'juicio', 'y', 'equidad,', 'y', 'todo', 'buen', 'camino.', 'él', 'provee', 'de', 'sana', 'sabidur', 'ía', 'a', 'los', 'rectos', 'es', 'escudo', 'a', 'los', 'rectos', 'es', 'escudo', 'a', 'los', 'rectos', 'es', 'escudo', 'a', 'los', 'que', 'caminan', 'rectamente.porque', 'jehov', 'á', 'da', 'la', 'sabidur', 'ía', ',', 'y', 'de', 'su', 'juventud,', 'y', 'se', 'olvida', 'del', 'pacto', 'de', 'su', 'juventud,', 'y', 'se', 'olvida', 'del', 'pacto', 'de', 'su', 'juventud,', 'y', 'se', 'olvida', 'del', 'pacto', 'de', 'su', 'boca', 'viene', 'el', 'conocimiento', 'y', 'la', 'inteligencia.por', 'lo', 'cual', 'su', 'casa', 'est', 'á', 'inclinada', 'a', 'la', 'inteligencia,', 'y', 'a', 'la', 'inteligencia,', 'y', 'a', 'la', 'plata', 'la', 'buscares,', 'y', 'la', 'escudri', 'ñares', 'como', 'a', 'tesoros,', 'entonces', 'entender', 'ás', 'justicia,', 'juicio', 'y', 'equidad,', 'y', 'todo', 'buen', 'camino.porque', 'jehov', 'á', 'da', 'la', 'sabidur', 'ía', ',', 'y', 'de', 'su', 'juventud,', 'y', 'se', 'olvida', 'del', 'pacto', 'de', 'su', 'juventud,', 'y', 'se', 'olvida', 'del', 'pacto', 'de', 'su', 'juventud,', 'y', 'se', 'olvida', 'del', 'pacto', 'de', 'su', 'juventud,', 'y', 'se', 'olvida', 'del', 'pacto', 'de', 'su', 'dios.ser', 'ás', 'librado', 'de', 'la', 'vida.ser', 'ás', 'librado', 'de', 'la', 'vida.as', 'í', 'andar', 'ás', 'por', 'el', 'camino', 'de', 'sus', 'santos.cuando', 'la', 'sabidur', 'ía', 'entrare', 'en', 'tu', 'coraz', 'ón', ',', 'y', 'la', 'escudri', 'ñares', 'como', 'a', 'tesoros,', 'entonces', 'entender', 'ás', 'justicia,', 'juicio', 'y', 'equidad,', 'y', 'todo', 'buen', 'camino.porque', 'jehov', 'á', 'da', 'la', 'sabidur', 'ía', ',', 'y', 'de', 'su', 'juventud,', 'y', 'se', 'olvida', 'del', 'pacto', 'de', 'su', 'boca', 'viene', 'el', 'conocimiento', 'y', 'la', 'inteligencia.as', 'í', 'andar', 'ás', 'por', 'el', 'camino', 'de', 'los', 'justos', 'porque', 'los', 'rectos', 'habitar', 'án', 'la', 'tierra,', 'y', 'los', 'prevaricadores', 'ser', 'án', 'de', 'ella', 'desarraigados.', 'él', 'provee', 'de', 'sana', 'sabidur', 'ía', 'a', 'los', 'que', 'caminan', 'rectamente.por', 'lo', 'cual', 'su', 'casa', 'est', 'á', 'inclinada', 'a', 'la', 'inteligencia,', 'y', 'a', 'la', 'prudencia', 'dieres', 'tu', 'voz', 'si', 'como', 'a', 'tesoros,', 'entonces', 'entender', 'ás', 'el', 'temor', 'de', 'jehov', 'á', ',', 'y', 'hallar', 'ás', 'el', 'conocimiento', 'de', 'dios.']\n"
     ]
    }
   ],
   "source": [
    "# Separar por palabras ambos textos\n",
    "\n",
    "original_text = original_text.lower()\n",
    "markovified_text = markovified_text.lower()\n",
    "\n",
    "# re.findall(r\"[A-Za-z@#]+|\\S\", message)\n",
    "# r\"[A-Za-z=+-/!*]+|\\w+\"\n",
    "#  r'\\w+'\n",
    "\n",
    "original_words = re.findall(r\"[A-Za-z=+-/!*]+|\\w+\", original_text)\n",
    "markovified_words = re.findall(r\"[A-Za-z=+-/!*]+|\\w+\", markovified_text)\n",
    "\n",
    "print(len(original_words))\n",
    "print(original_words)\n",
    "print(len(markovified_words))\n",
    "print(markovified_words)"
   ]
  },
  {
   "cell_type": "code",
   "execution_count": 80,
   "metadata": {},
   "outputs": [
    {
     "name": "stdout",
     "output_type": "stream",
     "text": [
      "{'hijo': 1, 'm': 1, 'ío': 1, ',': 6, 'si': 4, 'recibieres': 1, 'mis': 2, 'palabras,': 2, 'y': 16, 'mandamientos': 1, 'guardares': 1, 'dentro': 1, 'de': 16, 'ti,': 1, 'haciendo': 2, 'estar': 1, 'atento': 1, 'tu': 5, 'o': 1, 'ído': 1, 'a': 11, 'la': 20, 'sabidur': 4, 'ía': 4, 'inclinares': 1, 'coraz': 2, 'ón': 3, 'prudencia,': 1, 'clamares': 1, 'inteligencia,': 2, 'prudencia': 1, 'dieres': 1, 'voz': 1, 'como': 2, 'plata': 1, 'buscares,': 1, 'escudri': 1, 'ñares': 1, 'tesoros,': 1, 'entonces': 2, 'entender': 2, 'ás': 6, 'el': 7, 'temor': 1, 'jehov': 2, 'á': 5, 'hallar': 1, 'conocimiento': 2, 'dios.': 2, 'porque': 2, 'da': 1, 'su': 4, 'boca': 1, 'viene': 1, 'inteligencia.': 1, 'él': 1, 'provee': 1, 'sana': 1, 'los': 13, 'rectos': 2, 'es': 2, 'escudo': 1, 'que': 8, 'caminan': 1, 'rectamente.': 1, 'guarda': 1, 'las': 3, 'veredas': 4, 'del': 4, 'juicio,': 1, 'preserva': 1, 'camino': 2, 'sus': 4, 'santos.': 1, 'justicia,': 1, 'juicio': 1, 'equidad,': 1, 'todo': 1, 'buen': 1, 'camino.': 1, 'cuando': 1, 'entrare': 1, 'en': 3, 'ciencia': 1, 'fuere': 1, 'grata': 1, 'alma,': 1, 'discreci': 1, 'te': 2, 'guardar': 1, 'preservar': 1, 'para': 2, 'librarte': 1, 'mal': 1, 'camino,': 1, 'hombres': 1, 'hablan': 1, 'perversidades,': 1, 'dejan': 1, 'caminos': 1, 'derechos,': 1, 'andar': 2, 'por': 3, 'sendas': 1, 'tenebrosas': 1, 'se': 4, 'alegran': 1, 'mal,': 1, 'huelgan': 1, 'perversidades': 1, 'vicio': 1, 'cuyas': 1, 'son': 1, 'torcidas,': 1, 'torcidos': 1, 'caminos.': 1, 'ser': 3, 'librado': 1, 'mujer': 1, 'extra': 1, 'ña': 1, 'ajena': 1, 'halaga': 1, 'con': 1, 'cual': 2, 'abandona': 1, 'al': 1, 'compa': 1, 'ñero': 1, 'juventud,': 1, 'olvida': 1, 'pacto': 1, 'lo': 1, 'casa': 1, 'est': 1, 'inclinada': 1, 'muerte,': 1, 'hacia': 1, 'muertos': 1, 'todos': 1, 'ella': 2, 'lleguen,': 1, 'no': 1, 'volver': 1, 'án': 6, 'ni': 1, 'seguir': 2, 'otra': 1, 'vez': 1, 'senderos': 1, 'vida.': 1, 'as': 1, 'í': 1, 'buenos,': 1, 'justos': 1, 'habitar': 1, 'tierra,': 2, 'perfectos': 1, 'permanecer': 1, 'ella,': 1, 'mas': 1, 'imp': 1, 'íos': 1, 'cortados': 1, 'prevaricadores': 1, 'desarraigados.': 1, 'rectamente.por': 0, 'camino.por': 0, 'rectamente.es': 0, 'desarraigados.es': 0, 'santos.porque': 0, 'dios.cuando': 0, 'rectamente.porque': 0, 'inteligencia.por': 0, 'camino.porque': 0, 'dios.ser': 0, 'vida.ser': 0, 'vida.as': 0, 'santos.cuando': 0, 'inteligencia.as': 0}\n",
      "{'hijo': 0, 'm': 0, 'ío': 0, ',': 7, 'si': 12, 'recibieres': 0, 'mis': 0, 'palabras,': 0, 'y': 41, 'mandamientos': 0, 'guardares': 0, 'dentro': 0, 'de': 27, 'ti,': 0, 'haciendo': 0, 'estar': 0, 'atento': 0, 'tu': 10, 'o': 0, 'ído': 0, 'a': 31, 'la': 37, 'sabidur': 13, 'ía': 13, 'inclinares': 5, 'coraz': 7, 'ón': 7, 'prudencia,': 4, 'clamares': 4, 'inteligencia,': 5, 'prudencia': 3, 'dieres': 3, 'voz': 3, 'como': 6, 'plata': 1, 'buscares,': 1, 'escudri': 3, 'ñares': 3, 'tesoros,': 5, 'entonces': 5, 'entender': 5, 'ás': 12, 'el': 10, 'temor': 1, 'jehov': 5, 'á': 11, 'hallar': 1, 'conocimiento': 3, 'dios.': 1, 'porque': 2, 'da': 4, 'su': 19, 'boca': 2, 'viene': 2, 'inteligencia.': 0, 'él': 2, 'provee': 2, 'sana': 2, 'los': 19, 'rectos': 5, 'es': 3, 'escudo': 3, 'que': 7, 'caminan': 5, 'rectamente.': 0, 'guarda': 2, 'las': 4, 'veredas': 7, 'del': 11, 'juicio,': 2, 'preserva': 2, 'camino': 4, 'sus': 5, 'santos.': 0, 'justicia,': 4, 'juicio': 4, 'equidad,': 4, 'todo': 4, 'buen': 4, 'camino.': 1, 'cuando': 0, 'entrare': 2, 'en': 2, 'ciencia': 0, 'fuere': 0, 'grata': 0, 'alma,': 0, 'discreci': 0, 'te': 0, 'guardar': 0, 'preservar': 0, 'para': 0, 'librarte': 0, 'mal': 0, 'camino,': 0, 'hombres': 0, 'hablan': 0, 'perversidades,': 0, 'dejan': 0, 'caminos': 0, 'derechos,': 0, 'andar': 2, 'por': 3, 'sendas': 0, 'tenebrosas': 0, 'se': 9, 'alegran': 0, 'mal,': 0, 'huelgan': 0, 'perversidades': 0, 'vicio': 0, 'cuyas': 0, 'son': 0, 'torcidas,': 0, 'torcidos': 0, 'caminos.': 0, 'ser': 2, 'librado': 2, 'mujer': 0, 'extra': 0, 'ña': 0, 'ajena': 0, 'halaga': 0, 'con': 0, 'cual': 6, 'abandona': 0, 'al': 0, 'compa': 0, 'ñero': 0, 'juventud,': 9, 'olvida': 9, 'pacto': 9, 'lo': 6, 'casa': 6, 'est': 6, 'inclinada': 6, 'muerte,': 3, 'hacia': 3, 'muertos': 3, 'todos': 3, 'ella': 2, 'lleguen,': 0, 'no': 0, 'volver': 0, 'án': 4, 'ni': 0, 'seguir': 2, 'otra': 0, 'vez': 0, 'senderos': 0, 'vida.': 0, 'as': 0, 'í': 2, 'buenos,': 2, 'justos': 2, 'habitar': 2, 'tierra,': 2, 'perfectos': 0, 'permanecer': 0, 'ella,': 0, 'mas': 0, 'imp': 0, 'íos': 0, 'cortados': 0, 'prevaricadores': 2, 'desarraigados.': 1, 'rectamente.por': 3, 'camino.por': 1, 'rectamente.es': 1, 'desarraigados.es': 1, 'santos.porque': 1, 'dios.cuando': 1, 'rectamente.porque': 1, 'inteligencia.por': 1, 'camino.porque': 2, 'dios.ser': 1, 'vida.ser': 1, 'vida.as': 1, 'santos.cuando': 1, 'inteligencia.as': 1}\n"
     ]
    }
   ],
   "source": [
    "# Calcular las repeticiones de todas las palabras combinadas en cada diccionario\n",
    "\n",
    "combined_text = original_words + markovified_words\n",
    "\n",
    "original_dict = {}\n",
    "markovified_dict = {}\n",
    "\n",
    "for word in combined_text:\n",
    "    in_original = (original_dict.get(word) is not None)\n",
    "    in_markovified = (markovified_dict.get(word) is not None)\n",
    "\n",
    "    if in_original == False:\n",
    "        original_dict[word] = 0\n",
    "    if in_markovified == False:\n",
    "        markovified_dict[word] = 0\n",
    "\n",
    "for word in original_words:\n",
    "    original_dict[word] += 1\n",
    "\n",
    "for word in markovified_words:\n",
    "    markovified_dict[word] += 1\n",
    "\n",
    "\n",
    "print(original_dict)\n",
    "print(markovified_dict)"
   ]
  },
  {
   "attachments": {},
   "cell_type": "markdown",
   "metadata": {},
   "source": [
    "#### Vectorizar los textos "
   ]
  },
  {
   "cell_type": "code",
   "execution_count": 81,
   "metadata": {},
   "outputs": [
    {
     "name": "stdout",
     "output_type": "stream",
     "text": [
      "{'hijo': 0.00303951367781155, 'm': 0.00303951367781155, 'ío': 0.00303951367781155, ',': 0.0182370820668693, 'si': 0.0121580547112462, 'recibieres': 0.00303951367781155, 'mis': 0.0060790273556231, 'palabras,': 0.0060790273556231, 'y': 0.0486322188449848, 'mandamientos': 0.00303951367781155, 'guardares': 0.00303951367781155, 'dentro': 0.00303951367781155, 'de': 0.0486322188449848, 'ti,': 0.00303951367781155, 'haciendo': 0.0060790273556231, 'estar': 0.00303951367781155, 'atento': 0.00303951367781155, 'tu': 0.015197568389057751, 'o': 0.00303951367781155, 'ído': 0.00303951367781155, 'a': 0.03343465045592705, 'la': 0.060790273556231005, 'sabidur': 0.0121580547112462, 'ía': 0.0121580547112462, 'inclinares': 0.00303951367781155, 'coraz': 0.0060790273556231, 'ón': 0.00911854103343465, 'prudencia,': 0.00303951367781155, 'clamares': 0.00303951367781155, 'inteligencia,': 0.0060790273556231, 'prudencia': 0.00303951367781155, 'dieres': 0.00303951367781155, 'voz': 0.00303951367781155, 'como': 0.0060790273556231, 'plata': 0.00303951367781155, 'buscares,': 0.00303951367781155, 'escudri': 0.00303951367781155, 'ñares': 0.00303951367781155, 'tesoros,': 0.00303951367781155, 'entonces': 0.0060790273556231, 'entender': 0.0060790273556231, 'ás': 0.0182370820668693, 'el': 0.02127659574468085, 'temor': 0.00303951367781155, 'jehov': 0.0060790273556231, 'á': 0.015197568389057751, 'hallar': 0.00303951367781155, 'conocimiento': 0.0060790273556231, 'dios.': 0.0060790273556231, 'porque': 0.0060790273556231, 'da': 0.00303951367781155, 'su': 0.0121580547112462, 'boca': 0.00303951367781155, 'viene': 0.00303951367781155, 'inteligencia.': 0.00303951367781155, 'él': 0.00303951367781155, 'provee': 0.00303951367781155, 'sana': 0.00303951367781155, 'los': 0.03951367781155015, 'rectos': 0.0060790273556231, 'es': 0.0060790273556231, 'escudo': 0.00303951367781155, 'que': 0.0243161094224924, 'caminan': 0.00303951367781155, 'rectamente.': 0.00303951367781155, 'guarda': 0.00303951367781155, 'las': 0.00911854103343465, 'veredas': 0.0121580547112462, 'del': 0.0121580547112462, 'juicio,': 0.00303951367781155, 'preserva': 0.00303951367781155, 'camino': 0.0060790273556231, 'sus': 0.0121580547112462, 'santos.': 0.00303951367781155, 'justicia,': 0.00303951367781155, 'juicio': 0.00303951367781155, 'equidad,': 0.00303951367781155, 'todo': 0.00303951367781155, 'buen': 0.00303951367781155, 'camino.': 0.00303951367781155, 'cuando': 0.00303951367781155, 'entrare': 0.00303951367781155, 'en': 0.00911854103343465, 'ciencia': 0.00303951367781155, 'fuere': 0.00303951367781155, 'grata': 0.00303951367781155, 'alma,': 0.00303951367781155, 'discreci': 0.00303951367781155, 'te': 0.0060790273556231, 'guardar': 0.00303951367781155, 'preservar': 0.00303951367781155, 'para': 0.0060790273556231, 'librarte': 0.00303951367781155, 'mal': 0.00303951367781155, 'camino,': 0.00303951367781155, 'hombres': 0.00303951367781155, 'hablan': 0.00303951367781155, 'perversidades,': 0.00303951367781155, 'dejan': 0.00303951367781155, 'caminos': 0.00303951367781155, 'derechos,': 0.00303951367781155, 'andar': 0.0060790273556231, 'por': 0.00911854103343465, 'sendas': 0.00303951367781155, 'tenebrosas': 0.00303951367781155, 'se': 0.0121580547112462, 'alegran': 0.00303951367781155, 'mal,': 0.00303951367781155, 'huelgan': 0.00303951367781155, 'perversidades': 0.00303951367781155, 'vicio': 0.00303951367781155, 'cuyas': 0.00303951367781155, 'son': 0.00303951367781155, 'torcidas,': 0.00303951367781155, 'torcidos': 0.00303951367781155, 'caminos.': 0.00303951367781155, 'ser': 0.00911854103343465, 'librado': 0.00303951367781155, 'mujer': 0.00303951367781155, 'extra': 0.00303951367781155, 'ña': 0.00303951367781155, 'ajena': 0.00303951367781155, 'halaga': 0.00303951367781155, 'con': 0.00303951367781155, 'cual': 0.0060790273556231, 'abandona': 0.00303951367781155, 'al': 0.00303951367781155, 'compa': 0.00303951367781155, 'ñero': 0.00303951367781155, 'juventud,': 0.00303951367781155, 'olvida': 0.00303951367781155, 'pacto': 0.00303951367781155, 'lo': 0.00303951367781155, 'casa': 0.00303951367781155, 'est': 0.00303951367781155, 'inclinada': 0.00303951367781155, 'muerte,': 0.00303951367781155, 'hacia': 0.00303951367781155, 'muertos': 0.00303951367781155, 'todos': 0.00303951367781155, 'ella': 0.0060790273556231, 'lleguen,': 0.00303951367781155, 'no': 0.00303951367781155, 'volver': 0.00303951367781155, 'án': 0.0182370820668693, 'ni': 0.00303951367781155, 'seguir': 0.0060790273556231, 'otra': 0.00303951367781155, 'vez': 0.00303951367781155, 'senderos': 0.00303951367781155, 'vida.': 0.00303951367781155, 'as': 0.00303951367781155, 'í': 0.00303951367781155, 'buenos,': 0.00303951367781155, 'justos': 0.00303951367781155, 'habitar': 0.00303951367781155, 'tierra,': 0.0060790273556231, 'perfectos': 0.00303951367781155, 'permanecer': 0.00303951367781155, 'ella,': 0.00303951367781155, 'mas': 0.00303951367781155, 'imp': 0.00303951367781155, 'íos': 0.00303951367781155, 'cortados': 0.00303951367781155, 'prevaricadores': 0.00303951367781155, 'desarraigados.': 0.00303951367781155, 'rectamente.por': 0.0, 'camino.por': 0.0, 'rectamente.es': 0.0, 'desarraigados.es': 0.0, 'santos.porque': 0.0, 'dios.cuando': 0.0, 'rectamente.porque': 0.0, 'inteligencia.por': 0.0, 'camino.porque': 0.0, 'dios.ser': 0.0, 'vida.ser': 0.0, 'vida.as': 0.0, 'santos.cuando': 0.0, 'inteligencia.as': 0.0}\n",
      "{'hijo': 0, 'm': 0, 'ío': 0, ',': 0.012302284710017574, 'si': 0.0210896309314587, 'recibieres': 0, 'mis': 0, 'palabras,': 0, 'y': 0.07205623901581722, 'mandamientos': 0, 'guardares': 0, 'dentro': 0, 'de': 0.04745166959578207, 'ti,': 0, 'haciendo': 0, 'estar': 0, 'atento': 0, 'tu': 0.01757469244288225, 'o': 0, 'ído': 0, 'a': 0.054481546572934976, 'la': 0.06502636203866433, 'sabidur': 0.022847100175746926, 'ía': 0.022847100175746926, 'inclinares': 0.008787346221441126, 'coraz': 0.012302284710017574, 'ón': 0.012302284710017574, 'prudencia,': 0.007029876977152899, 'clamares': 0.007029876977152899, 'inteligencia,': 0.008787346221441126, 'prudencia': 0.005272407732864675, 'dieres': 0.005272407732864675, 'voz': 0.005272407732864675, 'como': 0.01054481546572935, 'plata': 0.0017574692442882249, 'buscares,': 0.0017574692442882249, 'escudri': 0.005272407732864675, 'ñares': 0.005272407732864675, 'tesoros,': 0.008787346221441126, 'entonces': 0.008787346221441126, 'entender': 0.008787346221441126, 'ás': 0.0210896309314587, 'el': 0.01757469244288225, 'temor': 0.0017574692442882249, 'jehov': 0.008787346221441126, 'á': 0.019332161687170474, 'hallar': 0.0017574692442882249, 'conocimiento': 0.005272407732864675, 'dios.': 0.0017574692442882249, 'porque': 0.0035149384885764497, 'da': 0.007029876977152899, 'su': 0.033391915641476276, 'boca': 0.0035149384885764497, 'viene': 0.0035149384885764497, 'inteligencia.': 0, 'él': 0.0035149384885764497, 'provee': 0.0035149384885764497, 'sana': 0.0035149384885764497, 'los': 0.033391915641476276, 'rectos': 0.008787346221441126, 'es': 0.005272407732864675, 'escudo': 0.005272407732864675, 'que': 0.012302284710017574, 'caminan': 0.008787346221441126, 'rectamente.': 0, 'guarda': 0.0035149384885764497, 'las': 0.007029876977152899, 'veredas': 0.012302284710017574, 'del': 0.019332161687170474, 'juicio,': 0.0035149384885764497, 'preserva': 0.0035149384885764497, 'camino': 0.007029876977152899, 'sus': 0.008787346221441126, 'santos.': 0, 'justicia,': 0.007029876977152899, 'juicio': 0.007029876977152899, 'equidad,': 0.007029876977152899, 'todo': 0.007029876977152899, 'buen': 0.007029876977152899, 'camino.': 0.0017574692442882249, 'cuando': 0, 'entrare': 0.0035149384885764497, 'en': 0.0035149384885764497, 'ciencia': 0, 'fuere': 0, 'grata': 0, 'alma,': 0, 'discreci': 0, 'te': 0, 'guardar': 0, 'preservar': 0, 'para': 0, 'librarte': 0, 'mal': 0, 'camino,': 0, 'hombres': 0, 'hablan': 0, 'perversidades,': 0, 'dejan': 0, 'caminos': 0, 'derechos,': 0, 'andar': 0.0035149384885764497, 'por': 0.005272407732864675, 'sendas': 0, 'tenebrosas': 0, 'se': 0.015817223198594025, 'alegran': 0, 'mal,': 0, 'huelgan': 0, 'perversidades': 0, 'vicio': 0, 'cuyas': 0, 'son': 0, 'torcidas,': 0, 'torcidos': 0, 'caminos.': 0, 'ser': 0.0035149384885764497, 'librado': 0.0035149384885764497, 'mujer': 0, 'extra': 0, 'ña': 0, 'ajena': 0, 'halaga': 0, 'con': 0, 'cual': 0.01054481546572935, 'abandona': 0, 'al': 0, 'compa': 0, 'ñero': 0, 'juventud,': 0.015817223198594025, 'olvida': 0.015817223198594025, 'pacto': 0.015817223198594025, 'lo': 0.01054481546572935, 'casa': 0.01054481546572935, 'est': 0.01054481546572935, 'inclinada': 0.01054481546572935, 'muerte,': 0.005272407732864675, 'hacia': 0.005272407732864675, 'muertos': 0.005272407732864675, 'todos': 0.005272407732864675, 'ella': 0.0035149384885764497, 'lleguen,': 0, 'no': 0, 'volver': 0, 'án': 0.007029876977152899, 'ni': 0, 'seguir': 0.0035149384885764497, 'otra': 0, 'vez': 0, 'senderos': 0, 'vida.': 0, 'as': 0, 'í': 0.0035149384885764497, 'buenos,': 0.0035149384885764497, 'justos': 0.0035149384885764497, 'habitar': 0.0035149384885764497, 'tierra,': 0.0035149384885764497, 'perfectos': 0, 'permanecer': 0, 'ella,': 0, 'mas': 0, 'imp': 0, 'íos': 0, 'cortados': 0, 'prevaricadores': 0.0035149384885764497, 'desarraigados.': 0.0017574692442882249, 'rectamente.por': 0.005272407732864675, 'camino.por': 0.0017574692442882249, 'rectamente.es': 0.0017574692442882249, 'desarraigados.es': 0.0017574692442882249, 'santos.porque': 0.0017574692442882249, 'dios.cuando': 0.0017574692442882249, 'rectamente.porque': 0.0017574692442882249, 'inteligencia.por': 0.0017574692442882249, 'camino.porque': 0.0035149384885764497, 'dios.ser': 0.0017574692442882249, 'vida.ser': 0.0017574692442882249, 'vida.as': 0.0017574692442882249, 'santos.cuando': 0.0017574692442882249, 'inteligencia.as': 0.0017574692442882249}\n"
     ]
    }
   ],
   "source": [
    "# Generate TF of original and markovified\n",
    "total_original_words = 0\n",
    "total_markovified_words = 0\n",
    "\n",
    "for word in original_dict:\n",
    "    total_original_words += original_dict[word]\n",
    "\n",
    "for word in markovified_dict:\n",
    "    total_markovified_words += markovified_dict[word]\n",
    "\n",
    "original_tf = {}\n",
    "markovified_tf = {}\n",
    "\n",
    "for word in original_dict:\n",
    "    original_tf[word] = original_dict[word] / total_original_words\n",
    "\n",
    "for word in markovified_dict:\n",
    "    if markovified_dict[word] == 0:\n",
    "        markovified_tf[word] = 0\n",
    "    else:\n",
    "        markovified_tf[word] = markovified_dict[word] / total_markovified_words\n",
    "\n",
    "print(original_tf)\n",
    "print(markovified_tf)"
   ]
  },
  {
   "cell_type": "code",
   "execution_count": 82,
   "metadata": {},
   "outputs": [
    {
     "name": "stdout",
     "output_type": "stream",
     "text": [
      "{'hijo': 1.0, 'm': 1.0, 'ío': 1.0, ',': 0.5945348918918356, 'si': 0.5945348918918356, 'recibieres': 1.0, 'mis': 1.0, 'palabras,': 1.0, 'y': 0.5945348918918356, 'mandamientos': 1.0, 'guardares': 1.0, 'dentro': 1.0, 'de': 0.5945348918918356, 'ti,': 1.0, 'haciendo': 1.0, 'estar': 1.0, 'atento': 1.0, 'tu': 0.5945348918918356, 'o': 1.0, 'ído': 1.0, 'a': 0.5945348918918356, 'la': 0.5945348918918356, 'sabidur': 0.5945348918918356, 'ía': 0.5945348918918356, 'inclinares': 0.5945348918918356, 'coraz': 0.5945348918918356, 'ón': 0.5945348918918356, 'prudencia,': 0.5945348918918356, 'clamares': 0.5945348918918356, 'inteligencia,': 0.5945348918918356, 'prudencia': 0.5945348918918356, 'dieres': 0.5945348918918356, 'voz': 0.5945348918918356, 'como': 0.5945348918918356, 'plata': 0.5945348918918356, 'buscares,': 0.5945348918918356, 'escudri': 0.5945348918918356, 'ñares': 0.5945348918918356, 'tesoros,': 0.5945348918918356, 'entonces': 0.5945348918918356, 'entender': 0.5945348918918356, 'ás': 0.5945348918918356, 'el': 0.5945348918918356, 'temor': 0.5945348918918356, 'jehov': 0.5945348918918356, 'á': 0.5945348918918356, 'hallar': 0.5945348918918356, 'conocimiento': 0.5945348918918356, 'dios.': 0.5945348918918356, 'porque': 0.5945348918918356, 'da': 0.5945348918918356, 'su': 0.5945348918918356, 'boca': 0.5945348918918356, 'viene': 0.5945348918918356, 'inteligencia.': 1.0, 'él': 0.5945348918918356, 'provee': 0.5945348918918356, 'sana': 0.5945348918918356, 'los': 0.5945348918918356, 'rectos': 0.5945348918918356, 'es': 0.5945348918918356, 'escudo': 0.5945348918918356, 'que': 0.5945348918918356, 'caminan': 0.5945348918918356, 'rectamente.': 1.0, 'guarda': 0.5945348918918356, 'las': 0.5945348918918356, 'veredas': 0.5945348918918356, 'del': 0.5945348918918356, 'juicio,': 0.5945348918918356, 'preserva': 0.5945348918918356, 'camino': 0.5945348918918356, 'sus': 0.5945348918918356, 'santos.': 1.0, 'justicia,': 0.5945348918918356, 'juicio': 0.5945348918918356, 'equidad,': 0.5945348918918356, 'todo': 0.5945348918918356, 'buen': 0.5945348918918356, 'camino.': 0.5945348918918356, 'cuando': 1.0, 'entrare': 0.5945348918918356, 'en': 0.5945348918918356, 'ciencia': 1.0, 'fuere': 1.0, 'grata': 1.0, 'alma,': 1.0, 'discreci': 1.0, 'te': 1.0, 'guardar': 1.0, 'preservar': 1.0, 'para': 1.0, 'librarte': 1.0, 'mal': 1.0, 'camino,': 1.0, 'hombres': 1.0, 'hablan': 1.0, 'perversidades,': 1.0, 'dejan': 1.0, 'caminos': 1.0, 'derechos,': 1.0, 'andar': 0.5945348918918356, 'por': 0.5945348918918356, 'sendas': 1.0, 'tenebrosas': 1.0, 'se': 0.5945348918918356, 'alegran': 1.0, 'mal,': 1.0, 'huelgan': 1.0, 'perversidades': 1.0, 'vicio': 1.0, 'cuyas': 1.0, 'son': 1.0, 'torcidas,': 1.0, 'torcidos': 1.0, 'caminos.': 1.0, 'ser': 0.5945348918918356, 'librado': 0.5945348918918356, 'mujer': 1.0, 'extra': 1.0, 'ña': 1.0, 'ajena': 1.0, 'halaga': 1.0, 'con': 1.0, 'cual': 0.5945348918918356, 'abandona': 1.0, 'al': 1.0, 'compa': 1.0, 'ñero': 1.0, 'juventud,': 0.5945348918918356, 'olvida': 0.5945348918918356, 'pacto': 0.5945348918918356, 'lo': 0.5945348918918356, 'casa': 0.5945348918918356, 'est': 0.5945348918918356, 'inclinada': 0.5945348918918356, 'muerte,': 0.5945348918918356, 'hacia': 0.5945348918918356, 'muertos': 0.5945348918918356, 'todos': 0.5945348918918356, 'ella': 0.5945348918918356, 'lleguen,': 1.0, 'no': 1.0, 'volver': 1.0, 'án': 0.5945348918918356, 'ni': 1.0, 'seguir': 0.5945348918918356, 'otra': 1.0, 'vez': 1.0, 'senderos': 1.0, 'vida.': 1.0, 'as': 1.0, 'í': 0.5945348918918356, 'buenos,': 0.5945348918918356, 'justos': 0.5945348918918356, 'habitar': 0.5945348918918356, 'tierra,': 0.5945348918918356, 'perfectos': 1.0, 'permanecer': 1.0, 'ella,': 1.0, 'mas': 1.0, 'imp': 1.0, 'íos': 1.0, 'cortados': 1.0, 'prevaricadores': 0.5945348918918356, 'desarraigados.': 0.5945348918918356, 'rectamente.por': 1.0, 'camino.por': 1.0, 'rectamente.es': 1.0, 'desarraigados.es': 1.0, 'santos.porque': 1.0, 'dios.cuando': 1.0, 'rectamente.porque': 1.0, 'inteligencia.por': 1.0, 'camino.porque': 1.0, 'dios.ser': 1.0, 'vida.ser': 1.0, 'vida.as': 1.0, 'santos.cuando': 1.0, 'inteligencia.as': 1.0}\n"
     ]
    }
   ],
   "source": [
    "# Generar IDF\n",
    "# IDF = ln(NoDocs / (NoDocs containing word + 1)) + 1\n",
    "\n",
    "idf = {}\n",
    "\n",
    "for word in original_dict:\n",
    "    no_docs = 2\n",
    "    no_docs_with_word = 0\n",
    "\n",
    "    if original_dict[word] > 0:\n",
    "        no_docs_with_word += 1\n",
    "    if markovified_dict[word] > 0:\n",
    "        no_docs_with_word += 1\n",
    "\n",
    "    idf[word] = math.log(no_docs / (no_docs_with_word + 1)) + 1\n",
    "\n",
    "print(idf)"
   ]
  },
  {
   "cell_type": "code",
   "execution_count": 83,
   "metadata": {},
   "outputs": [
    {
     "name": "stdout",
     "output_type": "stream",
     "text": [
      "{'hijo': 0.00303951367781155, 'm': 0.00303951367781155, 'ío': 0.00303951367781155, ',': 0.010842581615048674, 'si': 0.007228387743365782, 'recibieres': 0.00303951367781155, 'mis': 0.0060790273556231, 'palabras,': 0.0060790273556231, 'y': 0.02891355097346313, 'mandamientos': 0.00303951367781155, 'guardares': 0.00303951367781155, 'dentro': 0.00303951367781155, 'de': 0.02891355097346313, 'ti,': 0.00303951367781155, 'haciendo': 0.0060790273556231, 'estar': 0.00303951367781155, 'atento': 0.00303951367781155, 'tu': 0.009035484679207229, 'o': 0.00303951367781155, 'ído': 0.00303951367781155, 'a': 0.0198780662942559, 'la': 0.036141938716828914, 'sabidur': 0.007228387743365782, 'ía': 0.007228387743365782, 'inclinares': 0.0018070969358414456, 'coraz': 0.003614193871682891, 'ón': 0.005421290807524337, 'prudencia,': 0.0018070969358414456, 'clamares': 0.0018070969358414456, 'inteligencia,': 0.003614193871682891, 'prudencia': 0.0018070969358414456, 'dieres': 0.0018070969358414456, 'voz': 0.0018070969358414456, 'como': 0.003614193871682891, 'plata': 0.0018070969358414456, 'buscares,': 0.0018070969358414456, 'escudri': 0.0018070969358414456, 'ñares': 0.0018070969358414456, 'tesoros,': 0.0018070969358414456, 'entonces': 0.003614193871682891, 'entender': 0.003614193871682891, 'ás': 0.010842581615048674, 'el': 0.01264967855089012, 'temor': 0.0018070969358414456, 'jehov': 0.003614193871682891, 'á': 0.009035484679207229, 'hallar': 0.0018070969358414456, 'conocimiento': 0.003614193871682891, 'dios.': 0.003614193871682891, 'porque': 0.003614193871682891, 'da': 0.0018070969358414456, 'su': 0.007228387743365782, 'boca': 0.0018070969358414456, 'viene': 0.0018070969358414456, 'inteligencia.': 0.00303951367781155, 'él': 0.0018070969358414456, 'provee': 0.0018070969358414456, 'sana': 0.0018070969358414456, 'los': 0.02349226016593879, 'rectos': 0.003614193871682891, 'es': 0.003614193871682891, 'escudo': 0.0018070969358414456, 'que': 0.014456775486731565, 'caminan': 0.0018070969358414456, 'rectamente.': 0.00303951367781155, 'guarda': 0.0018070969358414456, 'las': 0.005421290807524337, 'veredas': 0.007228387743365782, 'del': 0.007228387743365782, 'juicio,': 0.0018070969358414456, 'preserva': 0.0018070969358414456, 'camino': 0.003614193871682891, 'sus': 0.007228387743365782, 'santos.': 0.00303951367781155, 'justicia,': 0.0018070969358414456, 'juicio': 0.0018070969358414456, 'equidad,': 0.0018070969358414456, 'todo': 0.0018070969358414456, 'buen': 0.0018070969358414456, 'camino.': 0.0018070969358414456, 'cuando': 0.00303951367781155, 'entrare': 0.0018070969358414456, 'en': 0.005421290807524337, 'ciencia': 0.00303951367781155, 'fuere': 0.00303951367781155, 'grata': 0.00303951367781155, 'alma,': 0.00303951367781155, 'discreci': 0.00303951367781155, 'te': 0.0060790273556231, 'guardar': 0.00303951367781155, 'preservar': 0.00303951367781155, 'para': 0.0060790273556231, 'librarte': 0.00303951367781155, 'mal': 0.00303951367781155, 'camino,': 0.00303951367781155, 'hombres': 0.00303951367781155, 'hablan': 0.00303951367781155, 'perversidades,': 0.00303951367781155, 'dejan': 0.00303951367781155, 'caminos': 0.00303951367781155, 'derechos,': 0.00303951367781155, 'andar': 0.003614193871682891, 'por': 0.005421290807524337, 'sendas': 0.00303951367781155, 'tenebrosas': 0.00303951367781155, 'se': 0.007228387743365782, 'alegran': 0.00303951367781155, 'mal,': 0.00303951367781155, 'huelgan': 0.00303951367781155, 'perversidades': 0.00303951367781155, 'vicio': 0.00303951367781155, 'cuyas': 0.00303951367781155, 'son': 0.00303951367781155, 'torcidas,': 0.00303951367781155, 'torcidos': 0.00303951367781155, 'caminos.': 0.00303951367781155, 'ser': 0.005421290807524337, 'librado': 0.0018070969358414456, 'mujer': 0.00303951367781155, 'extra': 0.00303951367781155, 'ña': 0.00303951367781155, 'ajena': 0.00303951367781155, 'halaga': 0.00303951367781155, 'con': 0.00303951367781155, 'cual': 0.003614193871682891, 'abandona': 0.00303951367781155, 'al': 0.00303951367781155, 'compa': 0.00303951367781155, 'ñero': 0.00303951367781155, 'juventud,': 0.0018070969358414456, 'olvida': 0.0018070969358414456, 'pacto': 0.0018070969358414456, 'lo': 0.0018070969358414456, 'casa': 0.0018070969358414456, 'est': 0.0018070969358414456, 'inclinada': 0.0018070969358414456, 'muerte,': 0.0018070969358414456, 'hacia': 0.0018070969358414456, 'muertos': 0.0018070969358414456, 'todos': 0.0018070969358414456, 'ella': 0.003614193871682891, 'lleguen,': 0.00303951367781155, 'no': 0.00303951367781155, 'volver': 0.00303951367781155, 'án': 0.010842581615048674, 'ni': 0.00303951367781155, 'seguir': 0.003614193871682891, 'otra': 0.00303951367781155, 'vez': 0.00303951367781155, 'senderos': 0.00303951367781155, 'vida.': 0.00303951367781155, 'as': 0.00303951367781155, 'í': 0.0018070969358414456, 'buenos,': 0.0018070969358414456, 'justos': 0.0018070969358414456, 'habitar': 0.0018070969358414456, 'tierra,': 0.003614193871682891, 'perfectos': 0.00303951367781155, 'permanecer': 0.00303951367781155, 'ella,': 0.00303951367781155, 'mas': 0.00303951367781155, 'imp': 0.00303951367781155, 'íos': 0.00303951367781155, 'cortados': 0.00303951367781155, 'prevaricadores': 0.0018070969358414456, 'desarraigados.': 0.0018070969358414456, 'rectamente.por': 0.0, 'camino.por': 0.0, 'rectamente.es': 0.0, 'desarraigados.es': 0.0, 'santos.porque': 0.0, 'dios.cuando': 0.0, 'rectamente.porque': 0.0, 'inteligencia.por': 0.0, 'camino.porque': 0.0, 'dios.ser': 0.0, 'vida.ser': 0.0, 'vida.as': 0.0, 'santos.cuando': 0.0, 'inteligencia.as': 0.0}\n",
      "{'hijo': 0.0, 'm': 0.0, 'ío': 0.0, ',': 0.007314137510092881, 'si': 0.01253852144587351, 'recibieres': 0.0, 'mis': 0.0, 'palabras,': 0.0, 'y': 0.04283994827340116, 'mandamientos': 0.0, 'guardares': 0.0, 'dentro': 0.0, 'de': 0.028211673253215396, 'ti,': 0.0, 'haciendo': 0.0, 'estar': 0.0, 'atento': 0.0, 'tu': 0.01044876787156126, 'o': 0.0, 'ído': 0.0, 'a': 0.0323911804018399, 'la': 0.03866044112477666, 'sabidur': 0.013583398233029637, 'ía': 0.013583398233029637, 'inclinares': 0.00522438393578063, 'coraz': 0.007314137510092881, 'ón': 0.007314137510092881, 'prudencia,': 0.004179507148624503, 'clamares': 0.004179507148624503, 'inteligencia,': 0.00522438393578063, 'prudencia': 0.0031346303614683776, 'dieres': 0.0031346303614683776, 'voz': 0.0031346303614683776, 'como': 0.006269260722936755, 'plata': 0.0010448767871561258, 'buscares,': 0.0010448767871561258, 'escudri': 0.0031346303614683776, 'ñares': 0.0031346303614683776, 'tesoros,': 0.00522438393578063, 'entonces': 0.00522438393578063, 'entender': 0.00522438393578063, 'ás': 0.01253852144587351, 'el': 0.01044876787156126, 'temor': 0.0010448767871561258, 'jehov': 0.00522438393578063, 'á': 0.011493644658717383, 'hallar': 0.0010448767871561258, 'conocimiento': 0.0031346303614683776, 'dios.': 0.0010448767871561258, 'porque': 0.0020897535743122516, 'da': 0.004179507148624503, 'su': 0.01985265895596639, 'boca': 0.0020897535743122516, 'viene': 0.0020897535743122516, 'inteligencia.': 0.0, 'él': 0.0020897535743122516, 'provee': 0.0020897535743122516, 'sana': 0.0020897535743122516, 'los': 0.01985265895596639, 'rectos': 0.00522438393578063, 'es': 0.0031346303614683776, 'escudo': 0.0031346303614683776, 'que': 0.007314137510092881, 'caminan': 0.00522438393578063, 'rectamente.': 0.0, 'guarda': 0.0020897535743122516, 'las': 0.004179507148624503, 'veredas': 0.007314137510092881, 'del': 0.011493644658717383, 'juicio,': 0.0020897535743122516, 'preserva': 0.0020897535743122516, 'camino': 0.004179507148624503, 'sus': 0.00522438393578063, 'santos.': 0.0, 'justicia,': 0.004179507148624503, 'juicio': 0.004179507148624503, 'equidad,': 0.004179507148624503, 'todo': 0.004179507148624503, 'buen': 0.004179507148624503, 'camino.': 0.0010448767871561258, 'cuando': 0.0, 'entrare': 0.0020897535743122516, 'en': 0.0020897535743122516, 'ciencia': 0.0, 'fuere': 0.0, 'grata': 0.0, 'alma,': 0.0, 'discreci': 0.0, 'te': 0.0, 'guardar': 0.0, 'preservar': 0.0, 'para': 0.0, 'librarte': 0.0, 'mal': 0.0, 'camino,': 0.0, 'hombres': 0.0, 'hablan': 0.0, 'perversidades,': 0.0, 'dejan': 0.0, 'caminos': 0.0, 'derechos,': 0.0, 'andar': 0.0020897535743122516, 'por': 0.0031346303614683776, 'sendas': 0.0, 'tenebrosas': 0.0, 'se': 0.009403891084405133, 'alegran': 0.0, 'mal,': 0.0, 'huelgan': 0.0, 'perversidades': 0.0, 'vicio': 0.0, 'cuyas': 0.0, 'son': 0.0, 'torcidas,': 0.0, 'torcidos': 0.0, 'caminos.': 0.0, 'ser': 0.0020897535743122516, 'librado': 0.0020897535743122516, 'mujer': 0.0, 'extra': 0.0, 'ña': 0.0, 'ajena': 0.0, 'halaga': 0.0, 'con': 0.0, 'cual': 0.006269260722936755, 'abandona': 0.0, 'al': 0.0, 'compa': 0.0, 'ñero': 0.0, 'juventud,': 0.009403891084405133, 'olvida': 0.009403891084405133, 'pacto': 0.009403891084405133, 'lo': 0.006269260722936755, 'casa': 0.006269260722936755, 'est': 0.006269260722936755, 'inclinada': 0.006269260722936755, 'muerte,': 0.0031346303614683776, 'hacia': 0.0031346303614683776, 'muertos': 0.0031346303614683776, 'todos': 0.0031346303614683776, 'ella': 0.0020897535743122516, 'lleguen,': 0.0, 'no': 0.0, 'volver': 0.0, 'án': 0.004179507148624503, 'ni': 0.0, 'seguir': 0.0020897535743122516, 'otra': 0.0, 'vez': 0.0, 'senderos': 0.0, 'vida.': 0.0, 'as': 0.0, 'í': 0.0020897535743122516, 'buenos,': 0.0020897535743122516, 'justos': 0.0020897535743122516, 'habitar': 0.0020897535743122516, 'tierra,': 0.0020897535743122516, 'perfectos': 0.0, 'permanecer': 0.0, 'ella,': 0.0, 'mas': 0.0, 'imp': 0.0, 'íos': 0.0, 'cortados': 0.0, 'prevaricadores': 0.0020897535743122516, 'desarraigados.': 0.0010448767871561258, 'rectamente.por': 0.005272407732864675, 'camino.por': 0.0017574692442882249, 'rectamente.es': 0.0017574692442882249, 'desarraigados.es': 0.0017574692442882249, 'santos.porque': 0.0017574692442882249, 'dios.cuando': 0.0017574692442882249, 'rectamente.porque': 0.0017574692442882249, 'inteligencia.por': 0.0017574692442882249, 'camino.porque': 0.0035149384885764497, 'dios.ser': 0.0017574692442882249, 'vida.ser': 0.0017574692442882249, 'vida.as': 0.0017574692442882249, 'santos.cuando': 0.0017574692442882249, 'inteligencia.as': 0.0017574692442882249}\n"
     ]
    }
   ],
   "source": [
    "# Generar tf_idf_original y tf_idf_markovified\n",
    "\n",
    "tf_idf_original = {}\n",
    "tf_idf_markovified = {}\n",
    "\n",
    "for word in idf:\n",
    "    tf_idf_original[word] = idf[word] * original_tf[word]\n",
    "    tf_idf_markovified[word] = idf[word] * markovified_tf[word]\n",
    "\n",
    "print(tf_idf_original)\n",
    "print(tf_idf_markovified)"
   ]
  },
  {
   "attachments": {},
   "cell_type": "markdown",
   "metadata": {},
   "source": [
    "#### Calcular la distancia coseno"
   ]
  },
  {
   "cell_type": "code",
   "execution_count": 84,
   "metadata": {},
   "outputs": [
    {
     "name": "stdout",
     "output_type": "stream",
     "text": [
      "0.9088616292541749\n"
     ]
    }
   ],
   "source": [
    "# Calcular distancia del coseno\n",
    "uv = 0\n",
    "_u = 0\n",
    "_v = 0\n",
    "_u_v = 0\n",
    "cos_distance = 0\n",
    "\n",
    "for word in original_dict:\n",
    "    uv += (original_dict[word] * markovified_dict[word])\n",
    "\n",
    "for word in original_dict:\n",
    "    _u += math.pow(original_dict[word], 2)\n",
    "\n",
    "for word in markovified_dict:\n",
    "    _v += math.pow(markovified_dict[word], 2)\n",
    "\n",
    "_u = math.sqrt(_u)\n",
    "_v = math.sqrt(_v)\n",
    "\n",
    "_u_v = _u*_v\n",
    "\n",
    "if _u_v == 0:\n",
    "    cos_distance = 0\n",
    "else:\n",
    "    cos_distance = uv / _u_v\n",
    "\n",
    "print(cos_distance)"
   ]
  },
  {
   "cell_type": "code",
   "execution_count": 85,
   "metadata": {},
   "outputs": [
    {
     "name": "stdout",
     "output_type": "stream",
     "text": [
      "The markovified/extra text is 90.9% similar to the original text, calculated with the cosine distance.\n",
      "The markovified/extra text is 1.729 times bigger than the size of the original text.\n"
     ]
    }
   ],
   "source": [
    "# Print results\n",
    "print('The markovified/extra text is ' + str(round(cos_distance, 3) * 100) + '% similar to the original text, calculated with the cosine distance.')\n",
    "print('The markovified/extra text is ' + str(round((total_markovified_words / total_original_words), 3)) + ' times bigger than the size of the original text.')"
   ]
  },
  {
   "attachments": {},
   "cell_type": "markdown",
   "metadata": {},
   "source": [
    "#### Reflexiones"
   ]
  },
  {
   "attachments": {},
   "cell_type": "markdown",
   "metadata": {},
   "source": [
    "6. Reflexiona: ¿Como varía la medida de similitud en función del texto que quieres comparar? ¿Si la métrica nos indica que son muy similares eso es garantía de que fueron realizados por el mismo autor?\n",
    "\n",
    "La medida de similitud varía según la frecuencia con la que aparezca una palabra en ambos textos. No se basa en la similiritud según el orden de aparición de las mismas ni en cuáles palabras tiene más cerca; simplemente en su frecuencia. Esto indica que si dos textos tienen las mismas palabras y con las mismas repeticiones, ya sea escritas en el mismo orden o en orden distinto, estos serán considerados como simliares.\n",
    "\n",
    "La distancia o similiritud entre ambos textos se calcula considerando qué tan cercanos son dos vectores de frecuencias (cada uno representando a un texto), basados en el coseno del ángulo que forman entre ellos. Si el ángulo formado es 90°, el coseno será 0 y habrá un 0% de similiritud. En contra parte, si el ángulo formado es 0°, el coseno será 1 y la similiritud será de 100%. \n",
    "\n",
    "No es una garantía que haya mucha similitud en los textos si nos basamos en la métrica de la distancia del coseno. Esto se debe a que esta es calculada a partir de las frecuencias de cada palabra en ambos textos. Si dos textos tuvieran las mismas palabras, pero ordenadas de diferente manera, y suponiendo que esto genera significados completamente distintos, aún así se obtendría un 100% de similitud entre los dos y no sería un indicio de plagio o de que viene del mismo autor."
   ]
  },
  {
   "attachments": {},
   "cell_type": "markdown",
   "metadata": {},
   "source": [
    "7. Adecua tu programa para encontrar similitud entre dos códigos hechos en Python. ¿Qué preprocesamiento tendrías que hacer con los códigos antes de compararlos?\n",
    "\n",
    "El programa fue adecuado para identificar símbolos que el lenguaje Python utiliza como: '+', '-', '/', '*', '=', '!', entre otros. Esto permite identificar a los símbolos individualmente o combinados, con la finalidad de incrementar la precisión al medir la similitud entre varios códigos de Python.\n",
    "\n",
    "Si se buscara medir con mayor precisión la similitud entre códigos de Python, una de las soluciones sería tokenizar el código; lo que implicaría implementar un _lexer_ y _mapear_ las palabras con el tipo de expresiones que son en Python. Por ejemplo, en vez de guardar el nombre de una variable, guardar el nombre _variable_. \n",
    "\n",
    "Al tokenizar, podremos obtener la similitud que hay entre dos códigos con respecto a la frecuencia de la frecuencia de sus tokens, aunque esto no indica fielmente que hay plagio, ya que ambos códigos pueden tener los mismos tokens y hacer cosas completamente distintas."
   ]
  },
  {
   "attachments": {},
   "cell_type": "markdown",
   "metadata": {},
   "source": [
    "8. Realiza distintas pruebas con distintos códigos hechos en Python. ¿Crees que esta técnica es adecuada para encontrar la similitud entre códigos?\n",
    "\n",
    "Considero que esta técnica _puede ser_ la adecuada para encontrar similitud. Depende de cómo sea utilziada para lograrlo.\n",
    "\n",
    "Es importante identificar que no obtendrá el mismo resultado si se tokeniza el código o no. \n",
    "\n",
    "Si se tokeniza, podremos obtener la similitud en cuanto a la estructura léxica del código. Esto podría ser útil para identificar que aunque se cambie el nombre a variables, funciones o clases, se conserva la similitud en la estructura léxica del código. Esta similitud léxica no indicaría necesariamente que hay plagio en códigos, ya que ambos pueden hacer cosas completamente diferentes con una misma estructura léxica. Para encontrar plagio, se optaría por encontrar patrones más especializados en el código, como por ejemplo, el algoritmo N-grams.\n",
    "\n",
    "Si no se tokeniza, entonces podremos obtener la similitud en cuanto a las palabras utilizadas en el código, lo cual puede acercarse más a la similiritud en sí, siempre y cuando se consideren las palabras y símbolos correctamente para el lenguaje en cuestión.\n",
    "\n",
    "Es importante considerar que entre más palabras reservadas, símbolos y caracteres especiales de Python se consideren, mejor será la precisión de similitud. De igual manera, es posible que en códigos con una alta similaridad, esta técnica sea efectiva para compararlos."
   ]
  }
 ],
 "metadata": {
  "kernelspec": {
   "display_name": "Python 3",
   "language": "python",
   "name": "python3"
  },
  "language_info": {
   "codemirror_mode": {
    "name": "ipython",
    "version": 3
   },
   "file_extension": ".py",
   "mimetype": "text/x-python",
   "name": "python",
   "nbconvert_exporter": "python",
   "pygments_lexer": "ipython3",
   "version": "3.8.0"
  },
  "orig_nbformat": 4
 },
 "nbformat": 4,
 "nbformat_minor": 2
}
